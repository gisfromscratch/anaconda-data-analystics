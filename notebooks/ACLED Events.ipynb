{
 "cells": [
  {
   "cell_type": "markdown",
   "metadata": {},
   "source": [
    "# Analysing ACLED exported files"
   ]
  },
  {
   "cell_type": "code",
   "execution_count": 32,
   "metadata": {},
   "outputs": [],
   "source": [
    "from arcgis.geometry import Geometry, Point\n",
    "from arcgis.gis import GIS\n",
    "from arcgis.features import GeoAccessor\n",
    "import pandas as pd"
   ]
  },
  {
   "cell_type": "code",
   "execution_count": 4,
   "metadata": {},
   "outputs": [],
   "source": [
    "file_path = \"D:/Intelligence/ACLED/2019-01-01-2019-12-31.csv\""
   ]
  },
  {
   "cell_type": "code",
   "execution_count": 5,
   "metadata": {},
   "outputs": [],
   "source": [
    "def read_acled(file_path):\n",
    "    return pd.read_csv(file_path)\n",
    "\n",
    "def get_highest_spatial_precision(acled_data):\n",
    "    return acled_data[acled_data[\"geo_precision\"]==1]\n",
    "\n",
    "def get_protests(acled_data):\n",
    "    return acled_data[acled_data[\"event_type\"]==\"Protests\"]\n",
    "\n",
    "def get_peaceful_protests(acled_data):\n",
    "    acled_protests = get_protests(acled_data)\n",
    "    return acled_protests[acled_protests[\"sub_event_type\"]==\"Peaceful protest\"]\n",
    "\n",
    "def list_precisest_locations(acled_data):\n",
    "    return get_highest_spatial_precision(acled_data)[\"location\"].unique()\n",
    "\n",
    "def count_precisest_locations(acled_data):\n",
    "    return get_highest_spatial_precision(acled_data)[\"location\"].value_counts()"
   ]
  },
  {
   "cell_type": "code",
   "execution_count": 6,
   "metadata": {},
   "outputs": [],
   "source": [
    "acled_data = read_acled(file_path)"
   ]
  },
  {
   "cell_type": "code",
   "execution_count": 7,
   "metadata": {},
   "outputs": [
    {
     "data": {
      "text/plain": [
       "Index(['data_id', 'iso', 'event_id_cnty', 'event_id_no_cnty', 'event_date',\n",
       "       'year', 'time_precision', 'event_type', 'sub_event_type', 'actor1',\n",
       "       'assoc_actor_1', 'inter1', 'actor2', 'assoc_actor_2', 'inter2',\n",
       "       'interaction', 'region', 'country', 'admin1', 'admin2', 'admin3',\n",
       "       'location', 'latitude', 'longitude', 'geo_precision', 'source',\n",
       "       'source_scale', 'notes', 'fatalities', 'timestamp', 'iso3'],\n",
       "      dtype='object')"
      ]
     },
     "execution_count": 7,
     "metadata": {},
     "output_type": "execute_result"
    }
   ],
   "source": [
    "acled_data.columns"
   ]
  },
  {
   "cell_type": "code",
   "execution_count": 37,
   "metadata": {},
   "outputs": [
    {
     "data": {
      "text/plain": [
       "Protests                      82867\n",
       "Battles                       45367\n",
       "Explosions/Remote violence    36451\n",
       "Violence against civilians    23776\n",
       "Riots                         15797\n",
       "Strategic developments         9452\n",
       "Name: event_type, dtype: int64"
      ]
     },
     "execution_count": 37,
     "metadata": {},
     "output_type": "execute_result"
    }
   ],
   "source": [
    "acled_data[\"event_type\"].value_counts()"
   ]
  },
  {
   "cell_type": "code",
   "execution_count": 56,
   "metadata": {},
   "outputs": [
    {
     "data": {
      "text/plain": [
       "Seoul City-Jongno              842\n",
       "Jammu                          558\n",
       "Ciudad de Mexico-Cuauhtemoc    515\n",
       "Hyderabad                      445\n",
       "Seoul City-Yeongdeungpo        393\n",
       "                              ... \n",
       "Guaruja                          1\n",
       "Singampunari                     1\n",
       "Huehuetoca                       1\n",
       "Ar Raydah                        1\n",
       "Mintiu Gherlii                   1\n",
       "Name: location, Length: 12195, dtype: int64"
      ]
     },
     "execution_count": 56,
     "metadata": {},
     "output_type": "execute_result"
    }
   ],
   "source": [
    "count_precisest_locations(get_peaceful_protests(acled_data))"
   ]
  },
  {
   "cell_type": "code",
   "execution_count": 34,
   "metadata": {},
   "outputs": [],
   "source": [
    "# Connect to ArcGIS Online anonymously\n",
    "gis = GIS() \n",
    "\n",
    "def get_unique_locations(acled_data):\n",
    "    acled_locations = {}\n",
    "    for acled_index in acled_data.index:\n",
    "        acled_location_name = acled_data[\"location\"][acled_index]\n",
    "        if (acled_location_name in acled_locations):\n",
    "            acled_locations[acled_location_name][\"hit_count\"] += 1\n",
    "        else:\n",
    "            acled_point = Point({\"x\" : acled_data[\"longitude\"][acled_index], \"y\" : acled_data[\"latitude\"][acled_index], \"spatialReference\" : {\"wkid\" : 4326}})\n",
    "            acled_locations[acled_location_name] = { \"point\": acled_point, \"hit_count\": 1 }\n",
    "    \n",
    "    return acled_locations\n",
    "\n",
    "def to_spatial_dataframe(acled_data):\n",
    "    acled_locations = {}\n",
    "    acled_names = []\n",
    "    acled_x = []\n",
    "    acled_y = []\n",
    "    acled_hit_counts = []\n",
    "    acled_record_index = 0\n",
    "    for acled_index in acled_data.index:\n",
    "        acled_location_name = acled_data[\"location\"][acled_index]\n",
    "        if (acled_location_name in acled_locations):\n",
    "            # Get the corresponding acled_record_index and update the hit_count\n",
    "            record_index = acled_locations[acled_location_name][\"record_index\"]\n",
    "            acled_hit_counts[record_index] += 1\n",
    "        else:\n",
    "            # Set the current acled_record_index for updating the corresponding hit_count\n",
    "            acled_locations[acled_location_name] = { \"record_index\": acled_record_index}\n",
    "            acled_names.append(acled_location_name)\n",
    "            acled_x.append(acled_data[\"longitude\"][acled_index])\n",
    "            acled_y.append(acled_data[\"latitude\"][acled_index])\n",
    "            acled_hit_counts.append(1)\n",
    "            acled_record_index += 1\n",
    "    \n",
    "    acled_dictionary = { \"name\": acled_names, \"x\": acled_x, \"y\": acled_y, \"hit_count\": acled_hit_counts }\n",
    "    acled_data_frame = pd.DataFrame.from_dict(acled_dictionary)\n",
    "    WGS84 = 4326\n",
    "    return GeoAccessor.from_xy(acled_data_frame, x_column=\"x\", y_column=\"y\", sr=WGS84)\n",
    "\n",
    "def get_europe_map():\n",
    "    europe_map = gis.map(\"Europe\")\n",
    "    europe_map.basemap = \"dark-gray-vector\"\n",
    "    return europe_map"
   ]
  },
  {
   "cell_type": "code",
   "execution_count": 30,
   "metadata": {},
   "outputs": [],
   "source": [
    "#get_unique_locations(get_highest_spatial_precision(get_peaceful_protests(acled_data)))\n",
    "acled_events = to_spatial_dataframe(get_highest_spatial_precision(get_peaceful_protests(acled_data)))"
   ]
  },
  {
   "cell_type": "code",
   "execution_count": 35,
   "metadata": {},
   "outputs": [
    {
     "name": "stderr",
     "output_type": "stream",
     "text": [
      "C:\\Users\\Developer\\AppData\\Roaming\\Python\\Python36\\site-packages\\pandas\\core\\generic.py:6245: SettingWithCopyWarning: \n",
      "A value is trying to be set on a copy of a slice from a DataFrame\n",
      "\n",
      "See the caveats in the documentation: https://pandas.pydata.org/pandas-docs/stable/user_guide/indexing.html#returning-a-view-versus-a-copy\n",
      "  self._update_inplace(new_data)\n",
      "C:\\Users\\Developer\\AppData\\Roaming\\Python\\Python36\\site-packages\\arcgis\\features\\geo\\_accessor.py:2317: SettingWithCopyWarning: \n",
      "A value is trying to be set on a copy of a slice from a DataFrame.\n",
      "Try using .loc[row_indexer,col_indexer] = value instead\n",
      "\n",
      "See the caveats in the documentation: https://pandas.pydata.org/pandas-docs/stable/user_guide/indexing.html#returning-a-view-versus-a-copy\n",
      "  self._data['OBJECTID'] = list(range(1, self._data.shape[0] + 1))\n"
     ]
    },
    {
     "data": {
      "application/vnd.jupyter.widget-view+json": {
       "model_id": "b4a7908df6c042208d2f11f8da08e34c",
       "version_major": 2,
       "version_minor": 0
      },
      "text/html": [
       "<p>Failed to display Jupyter Widget of type <code>MapView</code>.</p>\n",
       "<p>\n",
       "  If you're reading this message in the Jupyter Notebook or JupyterLab Notebook, it may mean\n",
       "  that the widgets JavaScript is still loading. If this message persists, it\n",
       "  likely means that the widgets JavaScript library is either not installed or\n",
       "  not enabled. See the <a href=\"https://ipywidgets.readthedocs.io/en/stable/user_install.html\">Jupyter\n",
       "  Widgets Documentation</a> for setup instructions.\n",
       "</p>\n",
       "<p>\n",
       "  If you're reading this message in another frontend (for example, a static\n",
       "  rendering on GitHub or <a href=\"https://nbviewer.jupyter.org/\">NBViewer</a>),\n",
       "  it may mean that your frontend doesn't currently support widgets.\n",
       "</p>\n"
      ],
      "text/plain": [
       "MapView(layout=Layout(height='400px', width='100%'))"
      ]
     },
     "metadata": {},
     "output_type": "display_data"
    },
    {
     "data": {
      "text/html": [
       "<div class=\"map-static-img-preview-7f808fff-3f28-4686-a72d-1885c75e679f\"><img src=\"\"></img></div>"
      ],
      "text/plain": [
       "<IPython.core.display.HTML object>"
      ]
     },
     "metadata": {},
     "output_type": "display_data"
    }
   ],
   "source": [
    "europe_map = get_europe_map()\n",
    "acled_events.head().spatial.plot(map_widget=europe_map, renderer_type=\"s\")\n",
    "europe_map"
   ]
  },
  {
   "cell_type": "code",
   "execution_count": 68,
   "metadata": {},
   "outputs": [
    {
     "data": {
      "text/plain": [
       "(1.2300000190734863,)"
      ]
     },
     "execution_count": 68,
     "metadata": {},
     "output_type": "execute_result"
    }
   ],
   "source": [
    "import struct\n",
    "float_bytes = struct.pack(\"f\", 1.23)\n",
    "struct.unpack(\"f\", float_bytes)"
   ]
  },
  {
   "cell_type": "code",
   "execution_count": null,
   "metadata": {},
   "outputs": [],
   "source": []
  }
 ],
 "metadata": {
  "kernelspec": {
   "display_name": "Python 3",
   "language": "python",
   "name": "python3"
  },
  "language_info": {
   "codemirror_mode": {
    "name": "ipython",
    "version": 3
   },
   "file_extension": ".py",
   "mimetype": "text/x-python",
   "name": "python",
   "nbconvert_exporter": "python",
   "pygments_lexer": "ipython3",
   "version": "3.6.4"
  }
 },
 "nbformat": 4,
 "nbformat_minor": 2
}
