{
 "cells": [
  {
   "cell_type": "markdown",
   "metadata": {},
   "source": [
    "# Analysing ACLED exported files"
   ]
  },
  {
   "cell_type": "code",
   "execution_count": 1,
   "metadata": {},
   "outputs": [],
   "source": [
    "from arcgis.geometry import Geometry, Point\n",
    "from arcgis.geometry.functions import buffer, relation\n",
    "from arcgis.gis import GIS\n",
    "from arcgis.features import GeoAccessor\n",
    "import os\n",
    "import pandas as pd"
   ]
  },
  {
   "cell_type": "code",
   "execution_count": 2,
   "metadata": {},
   "outputs": [],
   "source": [
    "# Define an environment variable targeting the ACLED file path\n",
    "file_path = os.environ[\"acled_file_path\"]"
   ]
  },
  {
   "cell_type": "code",
   "execution_count": 3,
   "metadata": {},
   "outputs": [],
   "source": [
    "def read_acled(file_path):\n",
    "    return pd.read_csv(file_path)\n",
    "\n",
    "def get_highest_spatial_precision(acled_data):\n",
    "    return acled_data[acled_data[\"geo_precision\"]==1]\n",
    "\n",
    "def get_highest_temporal_precision(acled_data):\n",
    "    return acled_data[acled_data[\"time_precision\"]==1]\n",
    "\n",
    "def get_protests(acled_data):\n",
    "    return acled_data[acled_data[\"event_type\"]==\"Protests\"]\n",
    "\n",
    "def get_peaceful_protests(acled_data):\n",
    "    acled_protests = get_protests(acled_data)\n",
    "    return acled_protests[acled_protests[\"sub_event_type\"]==\"Peaceful protest\"]\n",
    "\n",
    "def get_most_precise_peaceful_protests(acled_data):\n",
    "    return get_peaceful_protests(get_highest_spatial_precision(get_highest_temporal_precision(acled_data)))\n",
    "\n",
    "def list_precisest_locations(acled_data):\n",
    "    return get_highest_spatial_precision(acled_data)[\"location\"].unique()\n",
    "\n",
    "def count_precisest_locations(acled_data):\n",
    "    return get_highest_spatial_precision(acled_data)[\"location\"].value_counts()"
   ]
  },
  {
   "cell_type": "code",
   "execution_count": 4,
   "metadata": {},
   "outputs": [],
   "source": [
    "acled_data = read_acled(file_path)"
   ]
  },
  {
   "cell_type": "code",
   "execution_count": 5,
   "metadata": {},
   "outputs": [
    {
     "data": {
      "text/plain": [
       "Index(['data_id', 'iso', 'event_id_cnty', 'event_id_no_cnty', 'event_date',\n",
       "       'year', 'time_precision', 'event_type', 'sub_event_type', 'actor1',\n",
       "       'assoc_actor_1', 'inter1', 'actor2', 'assoc_actor_2', 'inter2',\n",
       "       'interaction', 'region', 'country', 'admin1', 'admin2', 'admin3',\n",
       "       'location', 'latitude', 'longitude', 'geo_precision', 'source',\n",
       "       'source_scale', 'notes', 'fatalities', 'timestamp', 'iso3'],\n",
       "      dtype='object')"
      ]
     },
     "execution_count": 5,
     "metadata": {},
     "output_type": "execute_result"
    }
   ],
   "source": [
    "acled_data.columns"
   ]
  },
  {
   "cell_type": "code",
   "execution_count": 6,
   "metadata": {},
   "outputs": [
    {
     "data": {
      "text/plain": [
       "Protests                      185193\n",
       "Battles                       166853\n",
       "Explosions/Remote violence    146991\n",
       "Violence against civilians     76560\n",
       "Riots                          52814\n",
       "Strategic developments         28885\n",
       "Name: event_type, dtype: int64"
      ]
     },
     "execution_count": 6,
     "metadata": {},
     "output_type": "execute_result"
    }
   ],
   "source": [
    "acled_data[\"event_type\"].value_counts()"
   ]
  },
  {
   "cell_type": "code",
   "execution_count": 7,
   "metadata": {},
   "outputs": [
    {
     "data": {
      "text/plain": [
       "Hyderabad               3070\n",
       "Larkana                 1939\n",
       "Jammu                   1897\n",
       "Lahore                  1338\n",
       "Karachi                 1316\n",
       "                        ... \n",
       "Oktyabrske                 1\n",
       "Dialakoro                  1\n",
       "Zhodzina                   1\n",
       "Allah Bachayo Bhatti       1\n",
       "Mabayi                     1\n",
       "Name: location, Length: 16717, dtype: int64"
      ]
     },
     "execution_count": 7,
     "metadata": {},
     "output_type": "execute_result"
    }
   ],
   "source": [
    "count_precisest_locations(get_peaceful_protests(acled_data))"
   ]
  },
  {
   "cell_type": "code",
   "execution_count": 8,
   "metadata": {},
   "outputs": [],
   "source": [
    "# Connect to ArcGIS Online anonymously\n",
    "gis = GIS() \n",
    "\n",
    "def get_unique_locations(acled_data):\n",
    "    acled_locations = {}\n",
    "    for acled_index in acled_data.index:\n",
    "        acled_location_name = acled_data[\"location\"][acled_index]\n",
    "        if (acled_location_name in acled_locations):\n",
    "            acled_locations[acled_location_name][\"hit_count\"] += 1\n",
    "        else:\n",
    "            acled_point = Point({\"x\" : acled_data[\"longitude\"][acled_index], \"y\" : acled_data[\"latitude\"][acled_index], \"spatialReference\" : {\"wkid\" : 4326}})\n",
    "            acled_locations[acled_location_name] = { \"point\": acled_point, \"hit_count\": 1 }\n",
    "    \n",
    "    return acled_locations\n",
    "\n",
    "def to_spatial_dataframe(acled_data):\n",
    "    acled_locations = {}\n",
    "    acled_names = []\n",
    "    acled_x = []\n",
    "    acled_y = []\n",
    "    acled_hit_counts = []\n",
    "    acled_record_index = 0\n",
    "    for acled_index in acled_data.index:\n",
    "        acled_location_name = acled_data[\"location\"][acled_index]\n",
    "        if (acled_location_name in acled_locations):\n",
    "            # Get the corresponding acled_record_index and update the hit_count\n",
    "            record_index = acled_locations[acled_location_name][\"record_index\"]\n",
    "            acled_hit_counts[record_index] += 1\n",
    "        else:\n",
    "            # Set the current acled_record_index for updating the corresponding hit_count\n",
    "            acled_locations[acled_location_name] = { \"record_index\": acled_record_index}\n",
    "            acled_names.append(acled_location_name)\n",
    "            acled_x.append(acled_data[\"longitude\"][acled_index])\n",
    "            acled_y.append(acled_data[\"latitude\"][acled_index])\n",
    "            acled_hit_counts.append(1)\n",
    "            acled_record_index += 1\n",
    "    \n",
    "    acled_dictionary = { \"name\": acled_names, \"x\": acled_x, \"y\": acled_y, \"hit_count\": acled_hit_counts }\n",
    "    acled_data_frame = pd.DataFrame.from_dict(acled_dictionary)\n",
    "    WGS84 = 4326\n",
    "    return GeoAccessor.from_xy(acled_data_frame, x_column=\"x\", y_column=\"y\", sr=WGS84)\n",
    "\n",
    "def get_europe_map():\n",
    "    europe_map = gis.map(\"Europe\")\n",
    "    europe_map.basemap = \"dark-gray-vector\"\n",
    "    return europe_map"
   ]
  },
  {
   "cell_type": "code",
   "execution_count": 9,
   "metadata": {},
   "outputs": [
    {
     "data": {
      "text/html": [
       "<div>\n",
       "<style scoped>\n",
       "    .dataframe tbody tr th:only-of-type {\n",
       "        vertical-align: middle;\n",
       "    }\n",
       "\n",
       "    .dataframe tbody tr th {\n",
       "        vertical-align: top;\n",
       "    }\n",
       "\n",
       "    .dataframe thead th {\n",
       "        text-align: right;\n",
       "    }\n",
       "</style>\n",
       "<table border=\"1\" class=\"dataframe\">\n",
       "  <thead>\n",
       "    <tr style=\"text-align: right;\">\n",
       "      <th></th>\n",
       "      <th>name</th>\n",
       "      <th>x</th>\n",
       "      <th>y</th>\n",
       "      <th>hit_count</th>\n",
       "      <th>SHAPE</th>\n",
       "    </tr>\n",
       "  </thead>\n",
       "  <tbody>\n",
       "    <tr>\n",
       "      <th>0</th>\n",
       "      <td>Bizpur</td>\n",
       "      <td>88.4213</td>\n",
       "      <td>22.9424</td>\n",
       "      <td>1</td>\n",
       "      <td>{\"spatialReference\": {\"wkid\": 4326}, \"x\": 88.4...</td>\n",
       "    </tr>\n",
       "    <tr>\n",
       "      <th>1</th>\n",
       "      <td>Fatih</td>\n",
       "      <td>28.9408</td>\n",
       "      <td>41.0225</td>\n",
       "      <td>60</td>\n",
       "      <td>{\"spatialReference\": {\"wkid\": 4326}, \"x\": 28.9...</td>\n",
       "    </tr>\n",
       "    <tr>\n",
       "      <th>2</th>\n",
       "      <td>Sofia</td>\n",
       "      <td>23.3212</td>\n",
       "      <td>42.6974</td>\n",
       "      <td>322</td>\n",
       "      <td>{\"spatialReference\": {\"wkid\": 4326}, \"x\": 23.3...</td>\n",
       "    </tr>\n",
       "    <tr>\n",
       "      <th>3</th>\n",
       "      <td>Diyarbakir</td>\n",
       "      <td>40.2172</td>\n",
       "      <td>37.9136</td>\n",
       "      <td>234</td>\n",
       "      <td>{\"spatialReference\": {\"wkid\": 4326}, \"x\": 40.2...</td>\n",
       "    </tr>\n",
       "    <tr>\n",
       "      <th>4</th>\n",
       "      <td>Kragujevac</td>\n",
       "      <td>20.9090</td>\n",
       "      <td>44.0109</td>\n",
       "      <td>52</td>\n",
       "      <td>{\"spatialReference\": {\"wkid\": 4326}, \"x\": 20.9...</td>\n",
       "    </tr>\n",
       "    <tr>\n",
       "      <th>...</th>\n",
       "      <td>...</td>\n",
       "      <td>...</td>\n",
       "      <td>...</td>\n",
       "      <td>...</td>\n",
       "      <td>...</td>\n",
       "    </tr>\n",
       "    <tr>\n",
       "      <th>16218</th>\n",
       "      <td>Kangemi</td>\n",
       "      <td>36.7436</td>\n",
       "      <td>-1.2695</td>\n",
       "      <td>1</td>\n",
       "      <td>{\"spatialReference\": {\"wkid\": 4326}, \"x\": 36.7...</td>\n",
       "    </tr>\n",
       "    <tr>\n",
       "      <th>16219</th>\n",
       "      <td>Dioulacolon</td>\n",
       "      <td>-14.8700</td>\n",
       "      <td>12.8200</td>\n",
       "      <td>11</td>\n",
       "      <td>{\"spatialReference\": {\"wkid\": 4326}, \"x\": -14....</td>\n",
       "    </tr>\n",
       "    <tr>\n",
       "      <th>16220</th>\n",
       "      <td>Salikegne</td>\n",
       "      <td>-15.7833</td>\n",
       "      <td>13.2500</td>\n",
       "      <td>11</td>\n",
       "      <td>{\"spatialReference\": {\"wkid\": 4326}, \"x\": -15....</td>\n",
       "    </tr>\n",
       "    <tr>\n",
       "      <th>16221</th>\n",
       "      <td>Londiani</td>\n",
       "      <td>35.6000</td>\n",
       "      <td>-0.1667</td>\n",
       "      <td>1</td>\n",
       "      <td>{\"spatialReference\": {\"wkid\": 4326}, \"x\": 35.6...</td>\n",
       "    </tr>\n",
       "    <tr>\n",
       "      <th>16222</th>\n",
       "      <td>Lamberts Bay</td>\n",
       "      <td>18.3333</td>\n",
       "      <td>-32.1000</td>\n",
       "      <td>1</td>\n",
       "      <td>{\"spatialReference\": {\"wkid\": 4326}, \"x\": 18.3...</td>\n",
       "    </tr>\n",
       "  </tbody>\n",
       "</table>\n",
       "<p>16223 rows × 5 columns</p>\n",
       "</div>"
      ],
      "text/plain": [
       "               name        x        y  hit_count  \\\n",
       "0            Bizpur  88.4213  22.9424          1   \n",
       "1             Fatih  28.9408  41.0225         60   \n",
       "2             Sofia  23.3212  42.6974        322   \n",
       "3        Diyarbakir  40.2172  37.9136        234   \n",
       "4        Kragujevac  20.9090  44.0109         52   \n",
       "...             ...      ...      ...        ...   \n",
       "16218       Kangemi  36.7436  -1.2695          1   \n",
       "16219   Dioulacolon -14.8700  12.8200         11   \n",
       "16220     Salikegne -15.7833  13.2500         11   \n",
       "16221      Londiani  35.6000  -0.1667          1   \n",
       "16222  Lamberts Bay  18.3333 -32.1000          1   \n",
       "\n",
       "                                                   SHAPE  \n",
       "0      {\"spatialReference\": {\"wkid\": 4326}, \"x\": 88.4...  \n",
       "1      {\"spatialReference\": {\"wkid\": 4326}, \"x\": 28.9...  \n",
       "2      {\"spatialReference\": {\"wkid\": 4326}, \"x\": 23.3...  \n",
       "3      {\"spatialReference\": {\"wkid\": 4326}, \"x\": 40.2...  \n",
       "4      {\"spatialReference\": {\"wkid\": 4326}, \"x\": 20.9...  \n",
       "...                                                  ...  \n",
       "16218  {\"spatialReference\": {\"wkid\": 4326}, \"x\": 36.7...  \n",
       "16219  {\"spatialReference\": {\"wkid\": 4326}, \"x\": -14....  \n",
       "16220  {\"spatialReference\": {\"wkid\": 4326}, \"x\": -15....  \n",
       "16221  {\"spatialReference\": {\"wkid\": 4326}, \"x\": 35.6...  \n",
       "16222  {\"spatialReference\": {\"wkid\": 4326}, \"x\": 18.3...  \n",
       "\n",
       "[16223 rows x 5 columns]"
      ]
     },
     "execution_count": 9,
     "metadata": {},
     "output_type": "execute_result"
    }
   ],
   "source": [
    "#get_unique_locations(get_highest_spatial_precision(get_peaceful_protests(acled_data)))\n",
    "acled_events = to_spatial_dataframe(get_most_precise_peaceful_protests(acled_data))\n",
    "acled_events"
   ]
  },
  {
   "cell_type": "code",
   "execution_count": 10,
   "metadata": {},
   "outputs": [
    {
     "data": {
      "application/vnd.jupyter.widget-view+json": {
       "model_id": "bf08bfe30538442f8de4a540317b2471",
       "version_major": 2,
       "version_minor": 0
      },
      "text/plain": [
       "MapView(layout=Layout(height='400px', width='100%'))"
      ]
     },
     "metadata": {},
     "output_type": "display_data"
    },
    {
     "data": {
      "text/html": [
       "<div class=\"map-static-img-preview-988a9805-d403-42e5-8871-5854d8e3e33f\"><img src=\"\"></img></div>"
      ],
      "text/plain": [
       "<IPython.core.display.HTML object>"
      ]
     },
     "metadata": {},
     "output_type": "display_data"
    },
    {
     "data": {
      "text/html": [
       "<div class=\"map-html-embed-preview-988a9805-d403-42e5-8871-5854d8e3e33f\"></div>"
      ],
      "text/plain": [
       "<IPython.core.display.HTML object>"
      ]
     },
     "metadata": {},
     "output_type": "display_data"
    }
   ],
   "source": [
    "europe_map = get_europe_map()\n",
    "acled_events.head().copy().spatial.plot(map_widget=europe_map, renderer_type=\"s\")\n",
    "europe_map"
   ]
  },
  {
   "cell_type": "code",
   "execution_count": 9,
   "metadata": {},
   "outputs": [],
   "source": [
    "#count_by_date = acled_data.groupby([\"event_date\"]).size()\n",
    "acled_data_date = acled_data.copy()\n",
    "acled_data_date[\"event_date\"] = pd.to_datetime(acled_data[\"event_date\"])\n",
    "acled_data_date.index = pd.DatetimeIndex(acled_data_date[\"event_date\"])\n",
    "count_by_month = acled_data_date.groupby(pd.Grouper(freq='M')).size()\n",
    "count_by_month.index = count_by_month.index.strftime('%B %Y')\n",
    "count_by_year = acled_data_date.groupby(pd.Grouper(freq='Y')).size()\n",
    "count_by_month.index = count_by_month.index.strftime('%B %Y')\n",
    "#count_by_month.plot(kind=\"bar\")"
   ]
  },
  {
   "cell_type": "code",
   "execution_count": 10,
   "metadata": {},
   "outputs": [
    {
     "data": {
      "text/plain": [
       "event_date\n",
       "January 2000        365\n",
       "February 2000       280\n",
       "March 2000          261\n",
       "April 2000          283\n",
       "May 2000            443\n",
       "                  ...  \n",
       "September 2019    12900\n",
       "October 2019      14372\n",
       "November 2019     13908\n",
       "December 2019     13057\n",
       "January 2020       9341\n",
       "Length: 241, dtype: int64"
      ]
     },
     "execution_count": 10,
     "metadata": {},
     "output_type": "execute_result"
    }
   ],
   "source": [
    "count_by_month"
   ]
  },
  {
   "cell_type": "code",
   "execution_count": null,
   "metadata": {},
   "outputs": [],
   "source": []
  }
 ],
 "metadata": {
  "kernelspec": {
   "display_name": "Python 3",
   "language": "python",
   "name": "python3"
  },
  "language_info": {
   "codemirror_mode": {
    "name": "ipython",
    "version": 3
   },
   "file_extension": ".py",
   "mimetype": "text/x-python",
   "name": "python",
   "nbconvert_exporter": "python",
   "pygments_lexer": "ipython3",
   "version": "3.8.2"
  }
 },
 "nbformat": 4,
 "nbformat_minor": 2
}
