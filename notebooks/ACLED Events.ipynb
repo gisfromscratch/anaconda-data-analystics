{
 "cells": [
  {
   "cell_type": "markdown",
   "metadata": {},
   "source": [
    "# Analysing ACLED exported files"
   ]
  },
  {
   "cell_type": "code",
   "execution_count": 1,
   "metadata": {},
   "outputs": [],
   "source": [
    "from arcgis.geometry import Geometry, Point\n",
    "from arcgis.geometry.functions import buffer, relation\n",
    "from arcgis.gis import GIS\n",
    "from arcgis.features import GeoAccessor\n",
    "import pandas as pd"
   ]
  },
  {
   "cell_type": "code",
   "execution_count": 5,
   "metadata": {},
   "outputs": [],
   "source": [
    "file_path = \"D:/Intelligence/ACLED/2019-01-01-2019-12-31.csv\""
   ]
  },
  {
   "cell_type": "code",
   "execution_count": 6,
   "metadata": {},
   "outputs": [],
   "source": [
    "def read_acled(file_path):\n",
    "    return pd.read_csv(file_path)\n",
    "\n",
    "def get_highest_spatial_precision(acled_data):\n",
    "    return acled_data[acled_data[\"geo_precision\"]==1]\n",
    "\n",
    "def get_highest_temporal_precision(acled_data):\n",
    "    return acled_data[acled_data[\"time_precision\"]==1]\n",
    "\n",
    "def get_protests(acled_data):\n",
    "    return acled_data[acled_data[\"event_type\"]==\"Protests\"]\n",
    "\n",
    "def get_peaceful_protests(acled_data):\n",
    "    acled_protests = get_protests(acled_data)\n",
    "    return acled_protests[acled_protests[\"sub_event_type\"]==\"Peaceful protest\"]\n",
    "\n",
    "def get_most_precise_peaceful_protests(acled_data):\n",
    "    return get_peaceful_protests(get_highest_spatial_precision(get_highest_temporal_precision(acled_data)))\n",
    "\n",
    "def list_precisest_locations(acled_data):\n",
    "    return get_highest_spatial_precision(acled_data)[\"location\"].unique()\n",
    "\n",
    "def count_precisest_locations(acled_data):\n",
    "    return get_highest_spatial_precision(acled_data)[\"location\"].value_counts()"
   ]
  },
  {
   "cell_type": "code",
   "execution_count": 7,
   "metadata": {},
   "outputs": [],
   "source": [
    "acled_data = read_acled(file_path)"
   ]
  },
  {
   "cell_type": "code",
   "execution_count": 8,
   "metadata": {},
   "outputs": [
    {
     "data": {
      "text/plain": [
       "Index(['data_id', 'iso', 'event_id_cnty', 'event_id_no_cnty', 'event_date',\n",
       "       'year', 'time_precision', 'event_type', 'sub_event_type', 'actor1',\n",
       "       'assoc_actor_1', 'inter1', 'actor2', 'assoc_actor_2', 'inter2',\n",
       "       'interaction', 'region', 'country', 'admin1', 'admin2', 'admin3',\n",
       "       'location', 'latitude', 'longitude', 'geo_precision', 'source',\n",
       "       'source_scale', 'notes', 'fatalities', 'timestamp', 'iso3'],\n",
       "      dtype='object')"
      ]
     },
     "execution_count": 8,
     "metadata": {},
     "output_type": "execute_result"
    }
   ],
   "source": [
    "acled_data.columns"
   ]
  },
  {
   "cell_type": "code",
   "execution_count": 9,
   "metadata": {},
   "outputs": [
    {
     "data": {
      "text/plain": [
       "Protests                      82867\n",
       "Battles                       45367\n",
       "Explosions/Remote violence    36451\n",
       "Violence against civilians    23776\n",
       "Riots                         15797\n",
       "Strategic developments         9452\n",
       "Name: event_type, dtype: int64"
      ]
     },
     "execution_count": 9,
     "metadata": {},
     "output_type": "execute_result"
    }
   ],
   "source": [
    "acled_data[\"event_type\"].value_counts()"
   ]
  },
  {
   "cell_type": "code",
   "execution_count": 10,
   "metadata": {},
   "outputs": [
    {
     "data": {
      "text/plain": [
       "Seoul City-Jongno              842\n",
       "Jammu                          558\n",
       "Ciudad de Mexico-Cuauhtemoc    515\n",
       "Hyderabad                      445\n",
       "Seoul City-Yeongdeungpo        393\n",
       "                              ... \n",
       "Donga                            1\n",
       "Guaruja                          1\n",
       "Deryneia                         1\n",
       "Mzimba                           1\n",
       "Abbasabad                        1\n",
       "Name: location, Length: 12195, dtype: int64"
      ]
     },
     "execution_count": 10,
     "metadata": {},
     "output_type": "execute_result"
    }
   ],
   "source": [
    "count_precisest_locations(get_peaceful_protests(acled_data))"
   ]
  },
  {
   "cell_type": "code",
   "execution_count": 11,
   "metadata": {},
   "outputs": [],
   "source": [
    "# Connect to ArcGIS Online anonymously\n",
    "gis = GIS() \n",
    "\n",
    "def get_unique_locations(acled_data):\n",
    "    acled_locations = {}\n",
    "    for acled_index in acled_data.index:\n",
    "        acled_location_name = acled_data[\"location\"][acled_index]\n",
    "        if (acled_location_name in acled_locations):\n",
    "            acled_locations[acled_location_name][\"hit_count\"] += 1\n",
    "        else:\n",
    "            acled_point = Point({\"x\" : acled_data[\"longitude\"][acled_index], \"y\" : acled_data[\"latitude\"][acled_index], \"spatialReference\" : {\"wkid\" : 4326}})\n",
    "            acled_locations[acled_location_name] = { \"point\": acled_point, \"hit_count\": 1 }\n",
    "    \n",
    "    return acled_locations\n",
    "\n",
    "def to_spatial_dataframe(acled_data):\n",
    "    acled_locations = {}\n",
    "    acled_names = []\n",
    "    acled_x = []\n",
    "    acled_y = []\n",
    "    acled_hit_counts = []\n",
    "    acled_record_index = 0\n",
    "    for acled_index in acled_data.index:\n",
    "        acled_location_name = acled_data[\"location\"][acled_index]\n",
    "        if (acled_location_name in acled_locations):\n",
    "            # Get the corresponding acled_record_index and update the hit_count\n",
    "            record_index = acled_locations[acled_location_name][\"record_index\"]\n",
    "            acled_hit_counts[record_index] += 1\n",
    "        else:\n",
    "            # Set the current acled_record_index for updating the corresponding hit_count\n",
    "            acled_locations[acled_location_name] = { \"record_index\": acled_record_index}\n",
    "            acled_names.append(acled_location_name)\n",
    "            acled_x.append(acled_data[\"longitude\"][acled_index])\n",
    "            acled_y.append(acled_data[\"latitude\"][acled_index])\n",
    "            acled_hit_counts.append(1)\n",
    "            acled_record_index += 1\n",
    "    \n",
    "    acled_dictionary = { \"name\": acled_names, \"x\": acled_x, \"y\": acled_y, \"hit_count\": acled_hit_counts }\n",
    "    acled_data_frame = pd.DataFrame.from_dict(acled_dictionary)\n",
    "    WGS84 = 4326\n",
    "    return GeoAccessor.from_xy(acled_data_frame, x_column=\"x\", y_column=\"y\", sr=WGS84)\n",
    "\n",
    "def get_europe_map():\n",
    "    europe_map = gis.map(\"Europe\")\n",
    "    europe_map.basemap = \"dark-gray-vector\"\n",
    "    return europe_map"
   ]
  },
  {
   "cell_type": "code",
   "execution_count": 14,
   "metadata": {},
   "outputs": [
    {
     "data": {
      "text/html": [
       "<div>\n",
       "<style scoped>\n",
       "    .dataframe tbody tr th:only-of-type {\n",
       "        vertical-align: middle;\n",
       "    }\n",
       "\n",
       "    .dataframe tbody tr th {\n",
       "        vertical-align: top;\n",
       "    }\n",
       "\n",
       "    .dataframe thead th {\n",
       "        text-align: right;\n",
       "    }\n",
       "</style>\n",
       "<table border=\"1\" class=\"dataframe\">\n",
       "  <thead>\n",
       "    <tr style=\"text-align: right;\">\n",
       "      <th></th>\n",
       "      <th>name</th>\n",
       "      <th>x</th>\n",
       "      <th>y</th>\n",
       "      <th>hit_count</th>\n",
       "      <th>SHAPE</th>\n",
       "    </tr>\n",
       "  </thead>\n",
       "  <tbody>\n",
       "    <tr>\n",
       "      <th>0</th>\n",
       "      <td>Bhubaneswar</td>\n",
       "      <td>85.8338</td>\n",
       "      <td>20.2724</td>\n",
       "      <td>99</td>\n",
       "      <td>{\"x\": 85.8338, \"y\": 20.2724, \"spatialReference...</td>\n",
       "    </tr>\n",
       "    <tr>\n",
       "      <th>1</th>\n",
       "      <td>Mahoba</td>\n",
       "      <td>79.8753</td>\n",
       "      <td>25.2905</td>\n",
       "      <td>2</td>\n",
       "      <td>{\"x\": 79.8753, \"y\": 25.2905, \"spatialReference...</td>\n",
       "    </tr>\n",
       "    <tr>\n",
       "      <th>2</th>\n",
       "      <td>Wanju</td>\n",
       "      <td>127.2171</td>\n",
       "      <td>35.9220</td>\n",
       "      <td>2</td>\n",
       "      <td>{\"x\": 127.2171, \"y\": 35.922, \"spatialReference...</td>\n",
       "    </tr>\n",
       "    <tr>\n",
       "      <th>3</th>\n",
       "      <td>Jalandhar</td>\n",
       "      <td>75.5791</td>\n",
       "      <td>31.3255</td>\n",
       "      <td>117</td>\n",
       "      <td>{\"x\": 75.5791, \"y\": 31.3255, \"spatialReference...</td>\n",
       "    </tr>\n",
       "    <tr>\n",
       "      <th>4</th>\n",
       "      <td>Changwon</td>\n",
       "      <td>128.6056</td>\n",
       "      <td>35.1741</td>\n",
       "      <td>235</td>\n",
       "      <td>{\"x\": 128.6056, \"y\": 35.1741, \"spatialReferenc...</td>\n",
       "    </tr>\n",
       "    <tr>\n",
       "      <th>...</th>\n",
       "      <td>...</td>\n",
       "      <td>...</td>\n",
       "      <td>...</td>\n",
       "      <td>...</td>\n",
       "      <td>...</td>\n",
       "    </tr>\n",
       "    <tr>\n",
       "      <th>11678</th>\n",
       "      <td>Gund Panah</td>\n",
       "      <td>74.6267</td>\n",
       "      <td>33.9565</td>\n",
       "      <td>1</td>\n",
       "      <td>{\"x\": 74.6267, \"y\": 33.9565, \"spatialReference...</td>\n",
       "    </tr>\n",
       "    <tr>\n",
       "      <th>11679</th>\n",
       "      <td>Chertu</td>\n",
       "      <td>74.5800</td>\n",
       "      <td>33.9014</td>\n",
       "      <td>1</td>\n",
       "      <td>{\"x\": 74.58, \"y\": 33.9014, \"spatialReference\":...</td>\n",
       "    </tr>\n",
       "    <tr>\n",
       "      <th>11680</th>\n",
       "      <td>Khari Karmara</td>\n",
       "      <td>74.0615</td>\n",
       "      <td>33.7066</td>\n",
       "      <td>1</td>\n",
       "      <td>{\"x\": 74.0615, \"y\": 33.7066, \"spatialReference...</td>\n",
       "    </tr>\n",
       "    <tr>\n",
       "      <th>11681</th>\n",
       "      <td>Taichung City-Wucuo</td>\n",
       "      <td>120.5988</td>\n",
       "      <td>24.2754</td>\n",
       "      <td>1</td>\n",
       "      <td>{\"x\": 120.5988, \"y\": 24.2754, \"spatialReferenc...</td>\n",
       "    </tr>\n",
       "    <tr>\n",
       "      <th>11682</th>\n",
       "      <td>Boeng Khyang</td>\n",
       "      <td>104.8721</td>\n",
       "      <td>11.3653</td>\n",
       "      <td>1</td>\n",
       "      <td>{\"x\": 104.8721, \"y\": 11.3653, \"spatialReferenc...</td>\n",
       "    </tr>\n",
       "  </tbody>\n",
       "</table>\n",
       "<p>11683 rows × 5 columns</p>\n",
       "</div>"
      ],
      "text/plain": [
       "                      name         x        y  hit_count  \\\n",
       "0              Bhubaneswar   85.8338  20.2724         99   \n",
       "1                   Mahoba   79.8753  25.2905          2   \n",
       "2                    Wanju  127.2171  35.9220          2   \n",
       "3                Jalandhar   75.5791  31.3255        117   \n",
       "4                 Changwon  128.6056  35.1741        235   \n",
       "...                    ...       ...      ...        ...   \n",
       "11678           Gund Panah   74.6267  33.9565          1   \n",
       "11679               Chertu   74.5800  33.9014          1   \n",
       "11680        Khari Karmara   74.0615  33.7066          1   \n",
       "11681  Taichung City-Wucuo  120.5988  24.2754          1   \n",
       "11682         Boeng Khyang  104.8721  11.3653          1   \n",
       "\n",
       "                                                   SHAPE  \n",
       "0      {\"x\": 85.8338, \"y\": 20.2724, \"spatialReference...  \n",
       "1      {\"x\": 79.8753, \"y\": 25.2905, \"spatialReference...  \n",
       "2      {\"x\": 127.2171, \"y\": 35.922, \"spatialReference...  \n",
       "3      {\"x\": 75.5791, \"y\": 31.3255, \"spatialReference...  \n",
       "4      {\"x\": 128.6056, \"y\": 35.1741, \"spatialReferenc...  \n",
       "...                                                  ...  \n",
       "11678  {\"x\": 74.6267, \"y\": 33.9565, \"spatialReference...  \n",
       "11679  {\"x\": 74.58, \"y\": 33.9014, \"spatialReference\":...  \n",
       "11680  {\"x\": 74.0615, \"y\": 33.7066, \"spatialReference...  \n",
       "11681  {\"x\": 120.5988, \"y\": 24.2754, \"spatialReferenc...  \n",
       "11682  {\"x\": 104.8721, \"y\": 11.3653, \"spatialReferenc...  \n",
       "\n",
       "[11683 rows x 5 columns]"
      ]
     },
     "execution_count": 14,
     "metadata": {},
     "output_type": "execute_result"
    }
   ],
   "source": [
    "#get_unique_locations(get_highest_spatial_precision(get_peaceful_protests(acled_data)))\n",
    "acled_events = to_spatial_dataframe(get_most_precise_peaceful_protests(acled_data))\n",
    "acled_events"
   ]
  },
  {
   "cell_type": "code",
   "execution_count": 15,
   "metadata": {},
   "outputs": [
    {
     "data": {
      "application/vnd.jupyter.widget-view+json": {
       "model_id": "47f5574f333546b891d173dcbf38c114",
       "version_major": 2,
       "version_minor": 0
      },
      "text/html": [
       "<p>Failed to display Jupyter Widget of type <code>MapView</code>.</p>\n",
       "<p>\n",
       "  If you're reading this message in the Jupyter Notebook or JupyterLab Notebook, it may mean\n",
       "  that the widgets JavaScript is still loading. If this message persists, it\n",
       "  likely means that the widgets JavaScript library is either not installed or\n",
       "  not enabled. See the <a href=\"https://ipywidgets.readthedocs.io/en/stable/user_install.html\">Jupyter\n",
       "  Widgets Documentation</a> for setup instructions.\n",
       "</p>\n",
       "<p>\n",
       "  If you're reading this message in another frontend (for example, a static\n",
       "  rendering on GitHub or <a href=\"https://nbviewer.jupyter.org/\">NBViewer</a>),\n",
       "  it may mean that your frontend doesn't currently support widgets.\n",
       "</p>\n"
      ],
      "text/plain": [
       "MapView(layout=Layout(height='400px', width='100%'))"
      ]
     },
     "metadata": {},
     "output_type": "display_data"
    },
    {
     "data": {
      "text/html": [
       "<div class=\"map-static-img-preview-df2091bc-c88e-44c6-aed1-c437a3ac41e4\"><img src=\"\"></img></div>"
      ],
      "text/plain": [
       "<IPython.core.display.HTML object>"
      ]
     },
     "metadata": {},
     "output_type": "display_data"
    }
   ],
   "source": [
    "europe_map = get_europe_map()\n",
    "acled_events.head().copy().spatial.plot(map_widget=europe_map, renderer_type=\"s\")\n",
    "europe_map"
   ]
  },
  {
   "cell_type": "code",
   "execution_count": 68,
   "metadata": {},
   "outputs": [
    {
     "data": {
      "text/plain": [
       "(1.2300000190734863,)"
      ]
     },
     "execution_count": 68,
     "metadata": {},
     "output_type": "execute_result"
    }
   ],
   "source": [
    "import struct\n",
    "float_bytes = struct.pack(\"f\", 1.23)\n",
    "struct.unpack(\"f\", float_bytes)"
   ]
  },
  {
   "cell_type": "code",
   "execution_count": null,
   "metadata": {},
   "outputs": [],
   "source": []
  }
 ],
 "metadata": {
  "kernelspec": {
   "display_name": "Python 3",
   "language": "python",
   "name": "python3"
  },
  "language_info": {
   "codemirror_mode": {
    "name": "ipython",
    "version": 3
   },
   "file_extension": ".py",
   "mimetype": "text/x-python",
   "name": "python",
   "nbconvert_exporter": "python",
   "pygments_lexer": "ipython3",
   "version": "3.6.4"
  }
 },
 "nbformat": 4,
 "nbformat_minor": 2
}
