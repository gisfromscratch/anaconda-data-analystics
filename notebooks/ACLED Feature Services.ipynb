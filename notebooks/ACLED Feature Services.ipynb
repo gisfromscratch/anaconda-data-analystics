{
 "cells": [
  {
   "cell_type": "markdown",
   "metadata": {},
   "source": [
    "# ACLED Feature Services"
   ]
  },
  {
   "cell_type": "code",
   "execution_count": 30,
   "metadata": {},
   "outputs": [],
   "source": [
    "from arcgis.gis import GIS\n",
    "from arcgis.features import FeatureLayer\n",
    "from datetime import datetime, timedelta\n",
    "from IPython.display import display\n",
    "from ipywidgets import widgets\n",
    "import os"
   ]
  },
  {
   "cell_type": "code",
   "execution_count": 22,
   "metadata": {},
   "outputs": [],
   "source": [
    "acled_fs_url = os.environ['acled_feature_service_url']\n",
    "acled_fs_url = acled_fs_url.replace('/1', '/0')\n",
    "acled_feature_layer = FeatureLayer(acled_fs_url)"
   ]
  },
  {
   "cell_type": "code",
   "execution_count": 46,
   "metadata": {},
   "outputs": [],
   "source": [
    "def query_by_date(layer, event_date):\n",
    "    start_date_str = from_date(event_date)\n",
    "    end_date_str = from_date(event_date + timedelta(days=1))\n",
    "    where_clause = \"EVENT_DATE BETWEEN DATE '{0}' AND DATE '{1}'\".format(start_date_str, end_date_str)\n",
    "    print(where_clause)\n",
    "    return layer.query(where_clause)\n",
    "\n",
    "def query_by_date_range(layer, start_date, end_date):\n",
    "    start_date = from_date(start_date)\n",
    "    end_date = from_date(end_date)\n",
    "    where_clause = \"EVENT_DATE BETWEEN DATE '{0}' AND DATE '{1}'\".format(start_date, end_date)\n",
    "    print(where_clause)\n",
    "    return layer.query(where_clause)\n",
    "\n",
    "def from_date(date):\n",
    "    return date.strftime('%Y-%m-%d')\n",
    "    \n",
    "def to_date(date_as_string):\n",
    "    return datetime.strptime(date_as_string, '%Y-%m-%d')\n",
    "\n",
    "def find_events():\n",
    "    #where_clause = \"EVENT_DATE > DATE '2021-07-01' AND EVENT_TYPE='Battles'\"\n",
    "    #where_clause = \"EVENT_DATE BETWEEN DATE '2021-07-01' AND DATE '2021-09-30' AND SUB_EVENT_TYPE = 'BATTLE'\"\n",
    "    #where_clause = \"EVENT_DATE > DATE '2021-07-01' AND EVENT_DATE < DATE '2021-07-30'\"\n",
    "    event_date = to_date('2021-09-10')\n",
    "    for query_indx in range(0, 10):\n",
    "        acled_feature_set = query_by_date(acled_feature_layer, event_date)\n",
    "        print(event_date, len(acled_feature_set))\n",
    "        if 0 < len(acled_feature_set):\n",
    "            break\n",
    "    \n",
    "        event_date += timedelta(days=-1)"
   ]
  },
  {
   "cell_type": "code",
   "execution_count": 48,
   "metadata": {},
   "outputs": [
    {
     "data": {
      "application/vnd.jupyter.widget-view+json": {
       "model_id": "7418f3f48b6e499caacff01ecda8dec8",
       "version_major": 2,
       "version_minor": 0
      },
      "text/plain": [
       "DatePicker(value=None, description='Pick start')"
      ]
     },
     "metadata": {},
     "output_type": "display_data"
    },
    {
     "data": {
      "application/vnd.jupyter.widget-view+json": {
       "model_id": "006f8d3c672043f4a1892dcdad28fc38",
       "version_major": 2,
       "version_minor": 0
      },
      "text/plain": [
       "DatePicker(value=None, description='Pick end')"
      ]
     },
     "metadata": {},
     "output_type": "display_data"
    }
   ],
   "source": [
    "start_date_picker = widgets.DatePicker(\n",
    "    description='Pick start',\n",
    "    disabled=False\n",
    ")\n",
    "display(start_date_picker)\n",
    "\n",
    "end_date_picker = widgets.DatePicker(\n",
    "    description='Pick end',\n",
    "    disabled=False\n",
    ")\n",
    "display(end_date_picker)"
   ]
  },
  {
   "cell_type": "code",
   "execution_count": 71,
   "metadata": {},
   "outputs": [
    {
     "name": "stdout",
     "output_type": "stream",
     "text": [
      "EVENT_DATE BETWEEN DATE '2021-02-01' AND DATE '2021-09-30'\n"
     ]
    },
    {
     "data": {
      "text/plain": [
       "<FeatureSet> 4682 features"
      ]
     },
     "execution_count": 71,
     "metadata": {},
     "output_type": "execute_result"
    }
   ],
   "source": [
    "start_date = start_date_picker.value\n",
    "end_date = end_date_picker.value\n",
    "acled_feature_set = query_by_date_range(acled_feature_layer, start_date, end_date)\n",
    "acled_feature_set"
   ]
  },
  {
   "cell_type": "code",
   "execution_count": 51,
   "metadata": {},
   "outputs": [],
   "source": [
    "gis = GIS()\n",
    "\n",
    "def get_europe_map():\n",
    "    europe_map = gis.map(\"Europe\")\n",
    "    europe_map.basemap = \"dark-gray-vector\"\n",
    "    return europe_map"
   ]
  },
  {
   "cell_type": "code",
   "execution_count": 62,
   "metadata": {},
   "outputs": [
    {
     "ename": "KeyError",
     "evalue": "'geometryType'",
     "output_type": "error",
     "traceback": [
      "\u001b[0;31m---------------------------------------------------------------------------\u001b[0m",
      "\u001b[0;31mKeyError\u001b[0m                                  Traceback (most recent call last)",
      "\u001b[0;32m<ipython-input-62-e98706e70f15>\u001b[0m in \u001b[0;36m<module>\u001b[0;34m\u001b[0m\n\u001b[1;32m      1\u001b[0m \u001b[0meurope_map\u001b[0m \u001b[0;34m=\u001b[0m \u001b[0mget_europe_map\u001b[0m\u001b[0;34m(\u001b[0m\u001b[0;34m)\u001b[0m\u001b[0;34m\u001b[0m\u001b[0;34m\u001b[0m\u001b[0m\n\u001b[1;32m      2\u001b[0m \u001b[0;31m#europe_map.add_layer(acled_feature_layer)\u001b[0m\u001b[0;34m\u001b[0m\u001b[0;34m\u001b[0m\u001b[0;34m\u001b[0m\u001b[0m\n\u001b[0;32m----> 3\u001b[0;31m \u001b[0meurope_map\u001b[0m\u001b[0;34m.\u001b[0m\u001b[0madd_layer\u001b[0m\u001b[0;34m(\u001b[0m\u001b[0macled_feature_set\u001b[0m\u001b[0;34m,\u001b[0m  \u001b[0;34m{\u001b[0m\u001b[0;34m\"renderer\"\u001b[0m\u001b[0;34m:\u001b[0m \u001b[0;34m\"HeatmapRenderer\"\u001b[0m\u001b[0;34m}\u001b[0m\u001b[0;34m)\u001b[0m\u001b[0;34m\u001b[0m\u001b[0;34m\u001b[0m\u001b[0m\n\u001b[0m\u001b[1;32m      4\u001b[0m \u001b[0meurope_map\u001b[0m\u001b[0;34m\u001b[0m\u001b[0;34m\u001b[0m\u001b[0m\n",
      "\u001b[0;32m~/anaconda3/lib/python3.8/site-packages/arcgis/widgets/_mapview/_mapview.py\u001b[0m in \u001b[0;36madd_layer\u001b[0;34m(self, item, options)\u001b[0m\n\u001b[1;32m   1151\u001b[0m              \u001b[0m_is_geoenabled\u001b[0m\u001b[0;34m(\u001b[0m\u001b[0mitem\u001b[0m\u001b[0;34m)\u001b[0m\u001b[0;34m:\u001b[0m\u001b[0;34m\u001b[0m\u001b[0;34m\u001b[0m\u001b[0m\n\u001b[1;32m   1152\u001b[0m             \u001b[0mitem\u001b[0m \u001b[0;34m=\u001b[0m \u001b[0mitem\u001b[0m\u001b[0;34m.\u001b[0m\u001b[0mspatial\u001b[0m\u001b[0;34m.\u001b[0m\u001b[0mto_feature_collection\u001b[0m\u001b[0;34m(\u001b[0m\u001b[0;34m)\u001b[0m\u001b[0;34m\u001b[0m\u001b[0;34m\u001b[0m\u001b[0m\n\u001b[0;32m-> 1153\u001b[0;31m         \u001b[0mself\u001b[0m\u001b[0;34m.\u001b[0m\u001b[0m_add_layer_to_widget\u001b[0m\u001b[0;34m(\u001b[0m\u001b[0mitem\u001b[0m\u001b[0;34m,\u001b[0m \u001b[0moptions\u001b[0m\u001b[0;34m)\u001b[0m\u001b[0;34m\u001b[0m\u001b[0;34m\u001b[0m\u001b[0m\n\u001b[0m\u001b[1;32m   1154\u001b[0m \u001b[0;34m\u001b[0m\u001b[0m\n\u001b[1;32m   1155\u001b[0m     \u001b[0;32mdef\u001b[0m \u001b[0m_add_layer_to_webmap\u001b[0m\u001b[0;34m(\u001b[0m\u001b[0mself\u001b[0m\u001b[0;34m,\u001b[0m \u001b[0mitem\u001b[0m\u001b[0;34m,\u001b[0m \u001b[0moptions\u001b[0m\u001b[0;34m)\u001b[0m\u001b[0;34m:\u001b[0m\u001b[0;34m\u001b[0m\u001b[0;34m\u001b[0m\u001b[0m\n",
      "\u001b[0;32m~/anaconda3/lib/python3.8/site-packages/arcgis/widgets/_mapview/_mapview.py\u001b[0m in \u001b[0;36m_add_layer_to_widget\u001b[0;34m(self, item, options)\u001b[0m\n\u001b[1;32m   1215\u001b[0m         \u001b[0;32melif\u001b[0m \u001b[0misinstance\u001b[0m\u001b[0;34m(\u001b[0m\u001b[0mitem\u001b[0m\u001b[0;34m,\u001b[0m \u001b[0mFeatureSet\u001b[0m\u001b[0;34m)\u001b[0m\u001b[0;34m:\u001b[0m\u001b[0;34m\u001b[0m\u001b[0;34m\u001b[0m\u001b[0m\n\u001b[1;32m   1216\u001b[0m             \u001b[0mfset_symbol\u001b[0m \u001b[0;34m=\u001b[0m \u001b[0moptions\u001b[0m\u001b[0;34m[\u001b[0m\u001b[0;34m'symbol'\u001b[0m\u001b[0;34m]\u001b[0m \u001b[0;32mif\u001b[0m \u001b[0moptions\u001b[0m \u001b[0;32mand\u001b[0m \u001b[0;34m'symbol'\u001b[0m \u001b[0;32min\u001b[0m \u001b[0moptions\u001b[0m \u001b[0;32melse\u001b[0m \u001b[0;32mNone\u001b[0m\u001b[0;34m\u001b[0m\u001b[0;34m\u001b[0m\u001b[0m\n\u001b[0;32m-> 1217\u001b[0;31m             \u001b[0mfc\u001b[0m \u001b[0;34m=\u001b[0m \u001b[0mFeatureCollection\u001b[0m\u001b[0;34m.\u001b[0m\u001b[0mfrom_featureset\u001b[0m\u001b[0;34m(\u001b[0m\u001b[0mitem\u001b[0m\u001b[0;34m,\u001b[0m \u001b[0msymbol\u001b[0m\u001b[0;34m=\u001b[0m\u001b[0mfset_symbol\u001b[0m\u001b[0;34m)\u001b[0m\u001b[0;34m\u001b[0m\u001b[0;34m\u001b[0m\u001b[0m\n\u001b[0m\u001b[1;32m   1218\u001b[0m             \u001b[0mself\u001b[0m\u001b[0;34m.\u001b[0m\u001b[0m_add_layer_to_widget\u001b[0m\u001b[0;34m(\u001b[0m\u001b[0mfc\u001b[0m\u001b[0;34m,\u001b[0m \u001b[0moptions\u001b[0m\u001b[0;34m)\u001b[0m\u001b[0;34m\u001b[0m\u001b[0;34m\u001b[0m\u001b[0m\n\u001b[1;32m   1219\u001b[0m \u001b[0;34m\u001b[0m\u001b[0m\n",
      "\u001b[0;32m~/anaconda3/lib/python3.8/site-packages/arcgis/features/feature.py\u001b[0m in \u001b[0;36mfrom_featureset\u001b[0;34m(fset, symbol, name)\u001b[0m\n\u001b[1;32m   1250\u001b[0m         \u001b[0;31m# region compose layer definition\u001b[0m\u001b[0;34m\u001b[0m\u001b[0;34m\u001b[0m\u001b[0;34m\u001b[0m\u001b[0m\n\u001b[1;32m   1251\u001b[0m \u001b[0;34m\u001b[0m\u001b[0m\n\u001b[0;32m-> 1252\u001b[0;31m         fc_layer_definition = {'geometryType' : fset_dict['geometryType'],\n\u001b[0m\u001b[1;32m   1253\u001b[0m                                \u001b[0;34m'fields'\u001b[0m \u001b[0;34m:\u001b[0m \u001b[0mfset_dict\u001b[0m\u001b[0;34m[\u001b[0m\u001b[0;34m'fields'\u001b[0m\u001b[0;34m]\u001b[0m\u001b[0;34m,\u001b[0m\u001b[0;34m\u001b[0m\u001b[0;34m\u001b[0m\u001b[0m\n\u001b[1;32m   1254\u001b[0m                                \u001b[0;34m'spatialReference'\u001b[0m \u001b[0;34m:\u001b[0m \u001b[0mfset_dict\u001b[0m\u001b[0;34m[\u001b[0m\u001b[0;34m'spatialReference'\u001b[0m\u001b[0;34m]\u001b[0m\u001b[0;34m,\u001b[0m\u001b[0;34m\u001b[0m\u001b[0;34m\u001b[0m\u001b[0m\n",
      "\u001b[0;31mKeyError\u001b[0m: 'geometryType'"
     ]
    }
   ],
   "source": [
    "europe_map = get_europe_map()\n",
    "#europe_map.add_layer(acled_feature_layer)\n",
    "europe_map.add_layer(acled_feature_set,  {\"renderer\": \"HeatmapRenderer\"})\n",
    "europe_map"
   ]
  },
  {
   "cell_type": "code",
   "execution_count": 63,
   "metadata": {},
   "outputs": [
    {
     "data": {
      "text/html": [
       "<div>\n",
       "<style scoped>\n",
       "    .dataframe tbody tr th:only-of-type {\n",
       "        vertical-align: middle;\n",
       "    }\n",
       "\n",
       "    .dataframe tbody tr th {\n",
       "        vertical-align: top;\n",
       "    }\n",
       "\n",
       "    .dataframe thead th {\n",
       "        text-align: right;\n",
       "    }\n",
       "</style>\n",
       "<table border=\"1\" class=\"dataframe\">\n",
       "  <thead>\n",
       "    <tr style=\"text-align: right;\">\n",
       "      <th></th>\n",
       "    </tr>\n",
       "  </thead>\n",
       "  <tbody>\n",
       "  </tbody>\n",
       "</table>\n",
       "</div>"
      ],
      "text/plain": [
       "Empty DataFrame\n",
       "Columns: []\n",
       "Index: []"
      ]
     },
     "execution_count": 63,
     "metadata": {},
     "output_type": "execute_result"
    }
   ],
   "source": [
    "acled_feature_set.sdf"
   ]
  },
  {
   "cell_type": "code",
   "execution_count": null,
   "metadata": {},
   "outputs": [],
   "source": []
  }
 ],
 "metadata": {
  "kernelspec": {
   "display_name": "Python 3",
   "language": "python",
   "name": "python3"
  },
  "language_info": {
   "codemirror_mode": {
    "name": "ipython",
    "version": 3
   },
   "file_extension": ".py",
   "mimetype": "text/x-python",
   "name": "python",
   "nbconvert_exporter": "python",
   "pygments_lexer": "ipython3",
   "version": "3.8.5"
  }
 },
 "nbformat": 4,
 "nbformat_minor": 4
}
