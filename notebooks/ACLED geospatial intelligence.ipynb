{
 "cells": [
  {
   "cell_type": "markdown",
   "metadata": {},
   "source": [
    "# Visualize the ACLED events from ArcGIS Online"
   ]
  },
  {
   "cell_type": "code",
   "execution_count": 1,
   "metadata": {},
   "outputs": [],
   "source": [
    "from arcgis import GIS\n",
    "from arcgis.mapping import WebMap\n",
    "from arcgis.features import FeatureLayer"
   ]
  },
  {
   "cell_type": "code",
   "execution_count": 2,
   "metadata": {},
   "outputs": [],
   "source": [
    "geoint_portal = GIS()"
   ]
  },
  {
   "cell_type": "code",
   "execution_count": 3,
   "metadata": {},
   "outputs": [
    {
     "data": {
      "text/html": [
       "<div class=\"item_container\" style=\"height: auto; overflow: hidden; border: 1px solid #cfcfcf; border-radius: 2px; background: #f6fafa; line-height: 1.21429em; padding: 10px;\">\n",
       "                    <div class=\"item_left\" style=\"width: 210px; float: left;\">\n",
       "                       <a href='https://www.arcgis.com/home/item.html?id=9904b2e6441743f8b5633d8a201dd0f5' target='_blank'>\n",
       "                        <img src='https://www.arcgis.com/sharing/rest//content/items/9904b2e6441743f8b5633d8a201dd0f5/info/thumbnail/thumbnail1555334798248.png' class=\"itemThumbnail\">\n",
       "                       </a>\n",
       "                    </div>\n",
       "\n",
       "                    <div class=\"item_right\"     style=\"float: none; width: auto; overflow: hidden;\">\n",
       "                        <a href='https://www.arcgis.com/home/item.html?id=9904b2e6441743f8b5633d8a201dd0f5' target='_blank'><b>Armed Conflict Location & Event Data Project (ACLED)</b>\n",
       "                        </a>\n",
       "                        <br/>The Armed Conflict Location & Event Data Project (ACLED) is a publicly available political violence and protest event dataset designed for disaggregated conflict analysis and crisis mapping.<img src='https://www.arcgis.com/home/js/jsapi/esri/css/images/item_type_icons/maps16.png' style=\"vertical-align:middle;\">Web Map by AidDevService\n",
       "                        <br/>Last Modified: November 11, 2020\n",
       "                        <br/>0 comments, 9.663 views\n",
       "                    </div>\n",
       "                </div>\n",
       "                "
      ],
      "text/plain": [
       "<Item title:\"Armed Conflict Location & Event Data Project (ACLED)\" type:Web Map owner:AidDevService>"
      ]
     },
     "execution_count": 3,
     "metadata": {},
     "output_type": "execute_result"
    }
   ],
   "source": [
    "acled_itemid = \"9904b2e6441743f8b5633d8a201dd0f5\"\n",
    "acled_item = geoint_portal.content.get(acled_itemid)\n",
    "acled_item"
   ]
  },
  {
   "cell_type": "code",
   "execution_count": 4,
   "metadata": {},
   "outputs": [
    {
     "data": {
      "application/vnd.jupyter.widget-view+json": {
       "model_id": "e2575c49ca5b49aea2043e2e8dd13a9a",
       "version_major": 2,
       "version_minor": 0
      },
      "text/html": [
       "<p>Failed to display Jupyter Widget of type <code>MapView</code>.</p>\n",
       "<p>\n",
       "  If you're reading this message in the Jupyter Notebook or JupyterLab Notebook, it may mean\n",
       "  that the widgets JavaScript is still loading. If this message persists, it\n",
       "  likely means that the widgets JavaScript library is either not installed or\n",
       "  not enabled. See the <a href=\"https://ipywidgets.readthedocs.io/en/stable/user_install.html\">Jupyter\n",
       "  Widgets Documentation</a> for setup instructions.\n",
       "</p>\n",
       "<p>\n",
       "  If you're reading this message in another frontend (for example, a static\n",
       "  rendering on GitHub or <a href=\"https://nbviewer.jupyter.org/\">NBViewer</a>),\n",
       "  it may mean that your frontend doesn't currently support widgets.\n",
       "</p>\n"
      ],
      "text/plain": [
       "MapView(hide_mode_switch=True, layout=Layout(height='400px', width='100%'))"
      ]
     },
     "metadata": {},
     "output_type": "display_data"
    },
    {
     "data": {
      "text/html": [
       "<div class=\"map-static-img-preview-d4b4ef9b-740b-4c83-9aa4-2bd5a4b53a8e\"><img src=\"\"></img></div>"
      ],
      "text/plain": [
       "<IPython.core.display.HTML object>"
      ]
     },
     "metadata": {},
     "output_type": "display_data"
    }
   ],
   "source": [
    "acled_webmap = WebMap(acled_item)\n",
    "acled_webmap"
   ]
  },
  {
   "cell_type": "code",
   "execution_count": 5,
   "metadata": {},
   "outputs": [
    {
     "name": "stdout",
     "output_type": "stream",
     "text": [
      "   OBJECTID  data_id event_id_cnty event_id_no_cnty event_date  year  \\\n",
      "0   2812326  7421543       RUS5460             5460 2020-12-12  2020   \n",
      "1   2812327  7421532       BLR1890             1890 2020-12-12  2020   \n",
      "2   2812328  7421531       BLR1886             1886 2020-12-12  2020   \n",
      "3   2812329  7421529       BLR1888             1888 2020-12-12  2020   \n",
      "4   2812330  7421528       BLR1882             1882 2020-12-12  2020   \n",
      "\n",
      "   time_precision event_type                actor1 assoc_actor_1  ...  source  \\\n",
      "0               1   Protests   Protesters (Russia)                ...   v1.ru   \n",
      "1               1   Protests  Protesters (Belarus)                ...  TUT.BY   \n",
      "2               1   Protests  Protesters (Belarus)                ...  TUT.BY   \n",
      "3               1   Protests  Protesters (Belarus)                ...  TUT.BY   \n",
      "4               1   Protests  Protesters (Belarus)                ...  TUT.BY   \n",
      "\n",
      "                                               notes fatalities   timestamp  \\\n",
      "0  On 12 December 2020, about 200 people took par...          0  1608060620   \n",
      "1  On 12 December 2020, people protested in Vawka...          0  1608060619   \n",
      "2  On 12 December 2020, people protested in Pruzh...          0  1608060619   \n",
      "3  On 12 December 2020, people protested in Salih...          0  1608060619   \n",
      "4  On 12 December 2020, people protested in Lahoy...          0  1608060619   \n",
      "\n",
      "   iso iso3  region source_scale    sub_event_type  \\\n",
      "0  643  RUS  Europe  Subnational  Peaceful protest   \n",
      "1  112  BLR  Europe     National  Peaceful protest   \n",
      "2  112  BLR  Europe     National  Peaceful protest   \n",
      "3  112  BLR  Europe     National  Peaceful protest   \n",
      "4  112  BLR  Europe     National  Peaceful protest   \n",
      "\n",
      "                                               SHAPE  \n",
      "0  {'x': 44.5018, 'y': 48.7194, 'spatialReference...  \n",
      "1  {'x': 24.4513, 'y': 53.1561, 'spatialReference...  \n",
      "2  {'x': 24.4573, 'y': 52.556, 'spatialReference'...  \n",
      "3  {'x': 27.5415, 'y': 52.7876, 'spatialReference...  \n",
      "4  {'x': 27.8512, 'y': 54.2064, 'spatialReference...  \n",
      "\n",
      "[5 rows x 33 columns]\n",
      "   OBJECTID  ISO EVENT_ID_CNTY  EVENT_ID_NO_CNTY  YEAR  TIME_PRECISION  \\\n",
      "0   3901217    4       AFG6604              6604  2017               1   \n",
      "1   3901218    4       AFG6614              6614  2017               2   \n",
      "2   3901219    4       AFG6634              6634  2017               1   \n",
      "3   3901220    4       AFG6638              6638  2017               1   \n",
      "4   3901221    4       AFG6639              6639  2017               1   \n",
      "\n",
      "                   EVENT_TYPE                                    ACTOR1  \\\n",
      "0  Explosions/Remote violence  NATO: North Atlantic Treaty Organization   \n",
      "1  Explosions/Remote violence    Military Forces of Afghanistan (2004-)   \n",
      "2                     Battles                                   Taliban   \n",
      "3  Explosions/Remote violence                                   Taliban   \n",
      "4                     Battles                                   Taliban   \n",
      "\n",
      "                      ASSOC_ACTOR_1  INTER1  ... LONGITUDE GEO_PRECISION  \\\n",
      "0  Military Forces of United States       8  ...    70.728             2   \n",
      "1                              None       1  ...    70.834             2   \n",
      "2                              None       2  ...    68.317             1   \n",
      "3                              None       2  ...    68.422             1   \n",
      "4                              None       2  ...    68.441             2   \n",
      "\n",
      "           SOURCE    SOURCE_SCALE  \\\n",
      "0    Khaama Press     Subnational   \n",
      "1          Xinhua   International   \n",
      "2  Voice of Jihad           Other   \n",
      "3  Voice of Jihad  Other-national   \n",
      "4  Voice of Jihad           Other   \n",
      "\n",
      "                                               NOTES FATALITIES EVENT_DATE  \\\n",
      "0  The US forces inAfghanistanconducted a drone s...          2 2017-10-18   \n",
      "1  5 Taliban militants were killed following airr...          5 2017-10-18   \n",
      "2  Taliban conductedattackson 3 posts of governme...          3 2017-10-19   \n",
      "3  Taliban claimed to have conducted a rocketatta...          2 2017-10-19   \n",
      "4  Taliban conductedattackson 3 posts of governme...          2 2017-10-19   \n",
      "\n",
      "  ISO3           REGION_FROM_FILE  \\\n",
      "0  AFG  South and South East Asia   \n",
      "1  AFG  South and South East Asia   \n",
      "2  AFG  South and South East Asia   \n",
      "3  AFG  South and South East Asia   \n",
      "4  AFG  South and South East Asia   \n",
      "\n",
      "                                               SHAPE  \n",
      "0  {'x': 70.728, 'y': 34.244, 'spatialReference':...  \n",
      "1  {'x': 70.834, 'y': 36.865, 'spatialReference':...  \n",
      "2  {'x': 68.317, 'y': 33.433, 'spatialReference':...  \n",
      "3  {'x': 68.422, 'y': 33.551, 'spatialReference':...  \n",
      "4  {'x': 68.441, 'y': 33.325, 'spatialReference':...  \n",
      "\n",
      "[5 rows x 31 columns]\n"
     ]
    }
   ],
   "source": [
    "def get_feature_layers(webmap):\n",
    "    feature_layers = []\n",
    "    for operational_layer in webmap.layers:\n",
    "        if \"layerType\" in operational_layer and \"ArcGISFeatureLayer\" == operational_layer[\"layerType\"]:\n",
    "            feature_layer = FeatureLayer(operational_layer.url)\n",
    "            feature_layers.append(feature_layer)\n",
    "    return feature_layers\n",
    "\n",
    "def query_feature_layers_as_dataframe(webmap, max_record_count=100):\n",
    "    dataframes = []\n",
    "    feature_layers = get_feature_layers(webmap)\n",
    "    for feature_layer in feature_layers:\n",
    "        features = feature_layer.query(out_fields=\"*\", return_all_records=False, as_df=True, result_record_count=max_record_count)        \n",
    "        dataframes.append(features)\n",
    "    return dataframes\n",
    "\n",
    "acled_dataframes = query_feature_layers_as_dataframe(acled_webmap, max_record_count=5)\n",
    "for acled_dataframe in acled_dataframes:\n",
    "    print(acled_dataframe)"
   ]
  },
  {
   "cell_type": "code",
   "execution_count": 7,
   "metadata": {},
   "outputs": [],
   "source": [
    "import networkx\n",
    "import matplotlib.pyplot as plt"
   ]
  },
  {
   "cell_type": "code",
   "execution_count": 8,
   "metadata": {},
   "outputs": [],
   "source": [
    "acled_live = acled_dataframes[0]"
   ]
  },
  {
   "cell_type": "code",
   "execution_count": 17,
   "metadata": {},
   "outputs": [
    {
     "data": {
      "text/html": [
       "<div>\n",
       "<style scoped>\n",
       "    .dataframe tbody tr th:only-of-type {\n",
       "        vertical-align: middle;\n",
       "    }\n",
       "\n",
       "    .dataframe tbody tr th {\n",
       "        vertical-align: top;\n",
       "    }\n",
       "\n",
       "    .dataframe thead th {\n",
       "        text-align: right;\n",
       "    }\n",
       "</style>\n",
       "<table border=\"1\" class=\"dataframe\">\n",
       "  <thead>\n",
       "    <tr style=\"text-align: right;\">\n",
       "      <th></th>\n",
       "      <th>actor1</th>\n",
       "      <th>event_type</th>\n",
       "    </tr>\n",
       "  </thead>\n",
       "  <tbody>\n",
       "    <tr>\n",
       "      <th>0</th>\n",
       "      <td>Protesters (Russia)</td>\n",
       "      <td>Protests</td>\n",
       "    </tr>\n",
       "    <tr>\n",
       "      <th>1</th>\n",
       "      <td>Protesters (Belarus)</td>\n",
       "      <td>Protests</td>\n",
       "    </tr>\n",
       "    <tr>\n",
       "      <th>2</th>\n",
       "      <td>Protesters (Belarus)</td>\n",
       "      <td>Protests</td>\n",
       "    </tr>\n",
       "    <tr>\n",
       "      <th>3</th>\n",
       "      <td>Protesters (Belarus)</td>\n",
       "      <td>Protests</td>\n",
       "    </tr>\n",
       "    <tr>\n",
       "      <th>4</th>\n",
       "      <td>Protesters (Belarus)</td>\n",
       "      <td>Protests</td>\n",
       "    </tr>\n",
       "  </tbody>\n",
       "</table>\n",
       "</div>"
      ],
      "text/plain": [
       "                 actor1 event_type\n",
       "0   Protesters (Russia)   Protests\n",
       "1  Protesters (Belarus)   Protests\n",
       "2  Protesters (Belarus)   Protests\n",
       "3  Protesters (Belarus)   Protests\n",
       "4  Protesters (Belarus)   Protests"
      ]
     },
     "execution_count": 17,
     "metadata": {},
     "output_type": "execute_result"
    }
   ],
   "source": [
    "acled_live[[\"actor1\", \"event_type\"]]"
   ]
  },
  {
   "cell_type": "code",
   "execution_count": null,
   "metadata": {},
   "outputs": [],
   "source": []
  }
 ],
 "metadata": {
  "kernelspec": {
   "display_name": "Python 3",
   "language": "python",
   "name": "python3"
  },
  "language_info": {
   "codemirror_mode": {
    "name": "ipython",
    "version": 3
   },
   "file_extension": ".py",
   "mimetype": "text/x-python",
   "name": "python",
   "nbconvert_exporter": "python",
   "pygments_lexer": "ipython3",
   "version": "3.8.2"
  }
 },
 "nbformat": 4,
 "nbformat_minor": 2
}
