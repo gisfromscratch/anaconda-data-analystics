{
 "cells": [
  {
   "cell_type": "markdown",
   "metadata": {},
   "source": [
    "# Cleaning Open311 requests from the city of Bonn"
   ]
  },
  {
   "cell_type": "code",
   "execution_count": 44,
   "metadata": {},
   "outputs": [],
   "source": [
    "from three import Three\n",
    "import pandas as pd\n",
    "\n",
    "class BonnGeoReportServices(Three):\n",
    "    def __init__(self):\n",
    "        super(BonnGeoReportServices, self).__init__()\n",
    "        self.endpoint = \"http://anliegen.bonn.de/georeport/v2/\"\n",
    "        self.format = \"json\"\n",
    "        self.jurisdiction = \"anliegen.bonn.de\"\n",
    "\n",
    "geoReportServices = BonnGeoReportServices()\n",
    "pageNumber = 0\n",
    "userRequests = []\n",
    "while True:\n",
    "    results = geoReportServices.requests(page=pageNumber)\n",
    "    pageNumber = pageNumber + 1\n",
    "    requests = list(map(lambda request: { 'id':request.get('service_request_id'), 'code':request.get('service_code'), 'service':request.get('service_name'), 'lat':request.get('lat'), 'lon':request.get('long'), 'address':request.get('address'), 'date':request.get('requested_datetime'), 'text':request.get('description')}, results))\n",
    "    if (requests[-1].get('id')):\n",
    "        userRequests.extend(requests)\n",
    "    else:\n",
    "        requests = [request for request in requests if request.get('id')]\n",
    "        userRequests.extend(requests)\n",
    "        break\n",
    "\n",
    "userRequestsDataFrame = pd.DataFrame.from_dict(userRequests)\n",
    "#userRequestsDataFrame.to_csv('D:/OpenData.Bonn/open311-requests.tsv', sep='\\t', index=False)"
   ]
  },
  {
   "cell_type": "markdown",
   "metadata": {},
   "source": [
    "## Clean the user requests"
   ]
  },
  {
   "cell_type": "code",
   "execution_count": 42,
   "metadata": {},
   "outputs": [
    {
     "name": "stdout",
     "output_type": "stream",
     "text": [
      "(<class 'TypeError'>, TypeError(\"'<' not supported between instances of 'float' and 'str'\",), <traceback object at 0x000002619E916D48>)\n"
     ]
    }
   ],
   "source": [
    "from datacleaner import autoclean\n",
    "import sys\n",
    "\n",
    "try:\n",
    "    cleanedUserRequestsDataFrame = autoclean(userRequestsDataFrame, copy=True)\n",
    "except:\n",
    "    print(sys.exc_info())\n",
    "    userRequestsDataFrame.to_csv('D:/OpenData.Bonn/open311-invalid-autoclean.tsv', sep='\\t', index=False)"
   ]
  },
  {
   "cell_type": "markdown",
   "metadata": {},
   "source": [
    "# Cleaning geonames"
   ]
  },
  {
   "cell_type": "code",
   "execution_count": 65,
   "metadata": {},
   "outputs": [],
   "source": [
    "header = ['geonameid','name','asciiname','alternatenames','latitude','longitude','feature class','feature code','country code','cc2','admin1 code','admin2 code','admin3 code','admin4 code','population','elevation','dem','timezone','modification date']\n",
    "geonames = pd.read_csv('D:/Geonames/cities1000_extract.txt', delimiter='\\t', header=None, names=header, low_memory=False)\n",
    "try:\n",
    "    cleaned_geonames = autoclean(geonames, copy=True)\n",
    "except:\n",
    "    print(sys.exc_info())"
   ]
  },
  {
   "cell_type": "code",
   "execution_count": 77,
   "metadata": {},
   "outputs": [
    {
     "name": "stdout",
     "output_type": "stream",
     "text": [
      "      geonameid                 name            asciiname alternatenames  \\\n",
      "3774   11592193  Aschau im Zillertal  Aschau im Zillertal            NaN   \n",
      "\n",
      "      latitude  longitude feature class feature code country code  cc2  \\\n",
      "3774  47.26613   11.89536             P        PPLA3           AT  NaN   \n",
      "\n",
      "     admin1 code admin2 code admin3 code  admin4 code  population  elevation  \\\n",
      "3774          07         709       70902          NaN        1840        NaN   \n",
      "\n",
      "      dem       timezone modification date  \n",
      "3774  630  Europe/Vienna        2017-06-13  \n",
      "      geonameid  name  asciiname  alternatenames  latitude  longitude  \\\n",
      "3774   11592193   427        447            6378  47.26613   11.89536   \n",
      "\n",
      "      feature class  feature code  country code  cc2  admin1 code  \\\n",
      "3774              0             3            11    4           11   \n",
      "\n",
      "      admin2 code  admin3 code  admin4 code  population  elevation  dem  \\\n",
      "3774         3067         1629      53053.0        1840      325.0  630   \n",
      "\n",
      "      timezone  modification date  \n",
      "3774        87                875  \n"
     ]
    }
   ],
   "source": [
    "combined_geonames = pd.concat([geonames, cleaned_geonames])\n",
    "combined_geonames.reset_index(drop=True)\n",
    "grouped_geonames = geonames.groupby(list(geonames.columns))\n",
    "unique_index = [idx[0] for idx in grouped_geonames.groups.values() if len(idx) == 1]\n",
    "differences_geonames = differences_geonames.reindex(unique_index)\n",
    "\n",
    "print(geonames.loc[geonames['geonameid'] == 11592193])\n",
    "print(cleaned_geonames.loc[cleaned_geonames['geonameid'] == 11592193])\n",
    "#differences_geonames"
   ]
  },
  {
   "cell_type": "code",
   "execution_count": null,
   "metadata": {},
   "outputs": [],
   "source": []
  }
 ],
 "metadata": {
  "kernelspec": {
   "display_name": "Python 3",
   "language": "python",
   "name": "python3"
  },
  "language_info": {
   "codemirror_mode": {
    "name": "ipython",
    "version": 3
   },
   "file_extension": ".py",
   "mimetype": "text/x-python",
   "name": "python",
   "nbconvert_exporter": "python",
   "pygments_lexer": "ipython3",
   "version": "3.6.4"
  }
 },
 "nbformat": 4,
 "nbformat_minor": 2
}
