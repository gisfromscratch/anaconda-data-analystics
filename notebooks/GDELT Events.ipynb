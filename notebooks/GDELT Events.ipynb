{
 "cells": [
  {
   "cell_type": "markdown",
   "metadata": {},
   "source": [
    "# Analysing the GDELT events"
   ]
  },
  {
   "cell_type": "code",
   "execution_count": 1,
   "metadata": {},
   "outputs": [],
   "source": [
    "#!pip install gdelt"
   ]
  },
  {
   "cell_type": "code",
   "execution_count": 2,
   "metadata": {},
   "outputs": [],
   "source": [
    "from arcgis.gis import GIS\n",
    "from arcgis.features import GeoAccessor\n",
    "import datetime as dt\n",
    "import gdelt as gd\n",
    "import numpy as np\n",
    "import pandas as pd"
   ]
  },
  {
   "cell_type": "code",
   "execution_count": 3,
   "metadata": {},
   "outputs": [],
   "source": [
    "gdelt_client = gd.gdelt()"
   ]
  },
  {
   "cell_type": "code",
   "execution_count": 4,
   "metadata": {},
   "outputs": [],
   "source": [
    "date = dt.datetime.now() - dt.timedelta(days=1)\n",
    "date_string = date.strftime('%Y %m %d')\n",
    "gdelt_events = gdelt_client.Search(date_string, table='events', coverage=True)"
   ]
  },
  {
   "cell_type": "code",
   "execution_count": 5,
   "metadata": {},
   "outputs": [
    {
     "data": {
      "text/plain": [
       "Index(['GLOBALEVENTID', 'SQLDATE', 'MonthYear', 'Year', 'FractionDate',\n",
       "       'Actor1Code', 'Actor1Name', 'Actor1CountryCode', 'Actor1KnownGroupCode',\n",
       "       'Actor1EthnicCode', 'Actor1Religion1Code', 'Actor1Religion2Code',\n",
       "       'Actor1Type1Code', 'Actor1Type2Code', 'Actor1Type3Code', 'Actor2Code',\n",
       "       'Actor2Name', 'Actor2CountryCode', 'Actor2KnownGroupCode',\n",
       "       'Actor2EthnicCode', 'Actor2Religion1Code', 'Actor2Religion2Code',\n",
       "       'Actor2Type1Code', 'Actor2Type2Code', 'Actor2Type3Code', 'IsRootEvent',\n",
       "       'EventCode', 'CAMEOCodeDescription', 'EventBaseCode', 'EventRootCode',\n",
       "       'QuadClass', 'GoldsteinScale', 'NumMentions', 'NumSources',\n",
       "       'NumArticles', 'AvgTone', 'Actor1Geo_Type', 'Actor1Geo_FullName',\n",
       "       'Actor1Geo_CountryCode', 'Actor1Geo_ADM1Code', 'Actor1Geo_ADM2Code',\n",
       "       'Actor1Geo_Lat', 'Actor1Geo_Long', 'Actor1Geo_FeatureID',\n",
       "       'Actor2Geo_Type', 'Actor2Geo_FullName', 'Actor2Geo_CountryCode',\n",
       "       'Actor2Geo_ADM1Code', 'Actor2Geo_ADM2Code', 'Actor2Geo_Lat',\n",
       "       'Actor2Geo_Long', 'Actor2Geo_FeatureID', 'ActionGeo_Type',\n",
       "       'ActionGeo_FullName', 'ActionGeo_CountryCode', 'ActionGeo_ADM1Code',\n",
       "       'ActionGeo_ADM2Code', 'ActionGeo_Lat', 'ActionGeo_Long',\n",
       "       'ActionGeo_FeatureID', 'DATEADDED', 'SOURCEURL'],\n",
       "      dtype='object')"
      ]
     },
     "execution_count": 5,
     "metadata": {},
     "output_type": "execute_result"
    }
   ],
   "source": [
    "gdelt_events['CAMEOCodeDescription'].unique()\n",
    "gdelt_events.columns"
   ]
  },
  {
   "cell_type": "code",
   "execution_count": 6,
   "metadata": {},
   "outputs": [
    {
     "data": {
      "text/html": [
       "<div>\n",
       "<style scoped>\n",
       "    .dataframe tbody tr th:only-of-type {\n",
       "        vertical-align: middle;\n",
       "    }\n",
       "\n",
       "    .dataframe tbody tr th {\n",
       "        vertical-align: top;\n",
       "    }\n",
       "\n",
       "    .dataframe thead th {\n",
       "        text-align: right;\n",
       "    }\n",
       "</style>\n",
       "<table border=\"1\" class=\"dataframe\">\n",
       "  <thead>\n",
       "    <tr style=\"text-align: right;\">\n",
       "      <th></th>\n",
       "      <th>ActionGeo_FullName</th>\n",
       "      <th>CAMEOCodeDescription</th>\n",
       "      <th>counts</th>\n",
       "    </tr>\n",
       "  </thead>\n",
       "  <tbody>\n",
       "    <tr>\n",
       "      <th>0</th>\n",
       "      <td>Rome, Lazio, Italy</td>\n",
       "      <td>Consult, not specified below</td>\n",
       "      <td>343</td>\n",
       "    </tr>\n",
       "    <tr>\n",
       "      <th>1</th>\n",
       "      <td>Rome, Lazio, Italy</td>\n",
       "      <td>Express intent to meet or negotiate</td>\n",
       "      <td>259</td>\n",
       "    </tr>\n",
       "    <tr>\n",
       "      <th>2</th>\n",
       "      <td>United States</td>\n",
       "      <td>Consult, not specified below</td>\n",
       "      <td>201</td>\n",
       "    </tr>\n",
       "    <tr>\n",
       "      <th>3</th>\n",
       "      <td>Paris, France (general), France</td>\n",
       "      <td>Consult, not specified below</td>\n",
       "      <td>201</td>\n",
       "    </tr>\n",
       "    <tr>\n",
       "      <th>4</th>\n",
       "      <td>White House, District of Columbia, United States</td>\n",
       "      <td>Consult, not specified below</td>\n",
       "      <td>194</td>\n",
       "    </tr>\n",
       "    <tr>\n",
       "      <th>...</th>\n",
       "      <td>...</td>\n",
       "      <td>...</td>\n",
       "      <td>...</td>\n",
       "    </tr>\n",
       "    <tr>\n",
       "      <th>33378</th>\n",
       "      <td>Massachusetts, United States</td>\n",
       "      <td>Make empathetic comment</td>\n",
       "      <td>1</td>\n",
       "    </tr>\n",
       "    <tr>\n",
       "      <th>33379</th>\n",
       "      <td>Massachusetts, United States</td>\n",
       "      <td>Mobilize or increase armed forces</td>\n",
       "      <td>1</td>\n",
       "    </tr>\n",
       "    <tr>\n",
       "      <th>33380</th>\n",
       "      <td>Massachusetts, United States</td>\n",
       "      <td>Provide military protection or peacekeeping</td>\n",
       "      <td>1</td>\n",
       "    </tr>\n",
       "    <tr>\n",
       "      <th>33381</th>\n",
       "      <td>Massachusetts, United States</td>\n",
       "      <td>Sexually assault</td>\n",
       "      <td>1</td>\n",
       "    </tr>\n",
       "    <tr>\n",
       "      <th>33382</th>\n",
       "      <td>Aabenraa Fjord, Syddanmark, Denmark</td>\n",
       "      <td>Host a visit</td>\n",
       "      <td>1</td>\n",
       "    </tr>\n",
       "  </tbody>\n",
       "</table>\n",
       "<p>33383 rows × 3 columns</p>\n",
       "</div>"
      ],
      "text/plain": [
       "                                     ActionGeo_FullName  \\\n",
       "0                                    Rome, Lazio, Italy   \n",
       "1                                    Rome, Lazio, Italy   \n",
       "2                                         United States   \n",
       "3                       Paris, France (general), France   \n",
       "4      White House, District of Columbia, United States   \n",
       "...                                                 ...   \n",
       "33378                      Massachusetts, United States   \n",
       "33379                      Massachusetts, United States   \n",
       "33380                      Massachusetts, United States   \n",
       "33381                      Massachusetts, United States   \n",
       "33382               Aabenraa Fjord, Syddanmark, Denmark   \n",
       "\n",
       "                               CAMEOCodeDescription  counts  \n",
       "0                      Consult, not specified below     343  \n",
       "1               Express intent to meet or negotiate     259  \n",
       "2                      Consult, not specified below     201  \n",
       "3                      Consult, not specified below     201  \n",
       "4                      Consult, not specified below     194  \n",
       "...                                             ...     ...  \n",
       "33378                       Make empathetic comment       1  \n",
       "33379            Mobilize or increase armed forces        1  \n",
       "33380   Provide military protection or peacekeeping       1  \n",
       "33381                              Sexually assault       1  \n",
       "33382                                  Host a visit       1  \n",
       "\n",
       "[33383 rows x 3 columns]"
      ]
     },
     "execution_count": 6,
     "metadata": {},
     "output_type": "execute_result"
    }
   ],
   "source": [
    "#gdelt_events.groupby(['Actor1Name', 'ActionGeo_FullName', 'Actor2Name', 'CAMEOCodeDescription']).size().sort_values(ascending=False).reset_index(name='counts')\n",
    "gdelt_events.groupby(['ActionGeo_FullName', 'CAMEOCodeDescription']).size().sort_values(ascending=False).reset_index(name='counts')"
   ]
  },
  {
   "cell_type": "code",
   "execution_count": 33,
   "metadata": {},
   "outputs": [
    {
     "data": {
      "text/html": [
       "<div>\n",
       "<style scoped>\n",
       "    .dataframe tbody tr th:only-of-type {\n",
       "        vertical-align: middle;\n",
       "    }\n",
       "\n",
       "    .dataframe tbody tr th {\n",
       "        vertical-align: top;\n",
       "    }\n",
       "\n",
       "    .dataframe thead th {\n",
       "        text-align: right;\n",
       "    }\n",
       "</style>\n",
       "<table border=\"1\" class=\"dataframe\">\n",
       "  <thead>\n",
       "    <tr style=\"text-align: right;\">\n",
       "      <th></th>\n",
       "      <th>ActionGeo_FullName</th>\n",
       "      <th>counts</th>\n",
       "    </tr>\n",
       "  </thead>\n",
       "  <tbody>\n",
       "    <tr>\n",
       "      <th>0</th>\n",
       "      <td>London, London, City of, United Kingdom</td>\n",
       "      <td>49</td>\n",
       "    </tr>\n",
       "    <tr>\n",
       "      <th>1</th>\n",
       "      <td>Paris, France (general), France</td>\n",
       "      <td>38</td>\n",
       "    </tr>\n",
       "    <tr>\n",
       "      <th>2</th>\n",
       "      <td>Khartoum, Al Khartum, Sudan</td>\n",
       "      <td>35</td>\n",
       "    </tr>\n",
       "    <tr>\n",
       "      <th>3</th>\n",
       "      <td>Glasgow, Glasgow City, United Kingdom</td>\n",
       "      <td>35</td>\n",
       "    </tr>\n",
       "    <tr>\n",
       "      <th>4</th>\n",
       "      <td>White House, District of Columbia, United States</td>\n",
       "      <td>34</td>\n",
       "    </tr>\n",
       "    <tr>\n",
       "      <th>...</th>\n",
       "      <td>...</td>\n",
       "      <td>...</td>\n",
       "    </tr>\n",
       "    <tr>\n",
       "      <th>499</th>\n",
       "      <td>Langley, Northumberland, United Kingdom</td>\n",
       "      <td>1</td>\n",
       "    </tr>\n",
       "    <tr>\n",
       "      <th>500</th>\n",
       "      <td>Layer-De-La-Haye, Essex, United Kingdom</td>\n",
       "      <td>1</td>\n",
       "    </tr>\n",
       "    <tr>\n",
       "      <th>501</th>\n",
       "      <td>Topkapi, Adiyaman, Turkey</td>\n",
       "      <td>1</td>\n",
       "    </tr>\n",
       "    <tr>\n",
       "      <th>502</th>\n",
       "      <td>Lima, Lima, Peru</td>\n",
       "      <td>1</td>\n",
       "    </tr>\n",
       "    <tr>\n",
       "      <th>503</th>\n",
       "      <td>Zhang Ye, Jiangxi, China</td>\n",
       "      <td>1</td>\n",
       "    </tr>\n",
       "  </tbody>\n",
       "</table>\n",
       "<p>504 rows × 2 columns</p>\n",
       "</div>"
      ],
      "text/plain": [
       "                                   ActionGeo_FullName  counts\n",
       "0             London, London, City of, United Kingdom      49\n",
       "1                     Paris, France (general), France      38\n",
       "2                         Khartoum, Al Khartum, Sudan      35\n",
       "3               Glasgow, Glasgow City, United Kingdom      35\n",
       "4    White House, District of Columbia, United States      34\n",
       "..                                                ...     ...\n",
       "499           Langley, Northumberland, United Kingdom       1\n",
       "500           Layer-De-La-Haye, Essex, United Kingdom       1\n",
       "501                         Topkapi, Adiyaman, Turkey       1\n",
       "502                                  Lima, Lima, Peru       1\n",
       "503                          Zhang Ye, Jiangxi, China       1\n",
       "\n",
       "[504 rows x 2 columns]"
      ]
     },
     "execution_count": 33,
     "metadata": {},
     "output_type": "execute_result"
    }
   ],
   "source": [
    "# Find demonstrations/protests\n",
    "protests_codes = ['014', '141'] \\\n",
    "    + ['141' + str(index) for index in range(1, 5)] \\\n",
    "    + ['142'] \\\n",
    "    + ['142' + str(index) for index in range(1, 5)] \\\n",
    "    + ['143'] \\\n",
    "    + ['143' + str(index) for index in range(1, 5)] \\\n",
    "    + ['144'] \\\n",
    "    + ['144' + str(index) for index in range(1, 5)] \\\n",
    "    + ['145'] \\\n",
    "    + ['145' + str(index) for index in range(1, 5)]\n",
    "\n",
    "# Geo types 3:='US city', 4:= 'World city'\n",
    "geo_types = [3, 4]\n",
    "gdelt_protests = gdelt_events.query('EventCode in @protests_codes').query('ActionGeo_Type in @geo_types')\n",
    "gdelt_protests.groupby(['ActionGeo_FullName']).size().sort_values(ascending=False).reset_index(name='counts')"
   ]
  },
  {
   "cell_type": "code",
   "execution_count": 7,
   "metadata": {},
   "outputs": [],
   "source": [
    "# Connect to ArcGIS Online anonymously\n",
    "gis = GIS()\n",
    "\n",
    "europe_map = gis.map(\"Europe\")\n",
    "europe_map.basemap = \"dark-gray-vector\""
   ]
  },
  {
   "cell_type": "code",
   "execution_count": 8,
   "metadata": {},
   "outputs": [
    {
     "data": {
      "application/vnd.jupyter.widget-view+json": {
       "model_id": "a07b890eacd84f1dbec11f87b52191ea",
       "version_major": 2,
       "version_minor": 0
      },
      "text/plain": [
       "MapView(layout=Layout(height='400px', width='100%'))"
      ]
     },
     "metadata": {},
     "output_type": "display_data"
    },
    {
     "data": {
      "text/html": [
       "<div class=\"map-static-img-preview-98172dd0-c8a9-4821-bad2-75517183e86d\"><img src=\"\"></img></div>"
      ],
      "text/plain": [
       "<IPython.core.display.HTML object>"
      ]
     },
     "metadata": {},
     "output_type": "display_data"
    },
    {
     "data": {
      "text/html": [
       "<div class=\"map-html-embed-preview-98172dd0-c8a9-4821-bad2-75517183e86d\"></div>"
      ],
      "text/plain": [
       "<IPython.core.display.HTML object>"
      ]
     },
     "metadata": {},
     "output_type": "display_data"
    }
   ],
   "source": [
    "WGS84 = 4326\n",
    "gdelt_spatial = GeoAccessor.from_xy(gdelt_events, x_column='ActionGeo_Long', y_column='ActionGeo_Lat', sr=WGS84)\n",
    "gdelt_spatial.spatial.plot(map_widget=europe_map, renderer_type='s')\n",
    "europe_map"
   ]
  },
  {
   "cell_type": "code",
   "execution_count": 9,
   "metadata": {},
   "outputs": [],
   "source": [
    "import algorithm"
   ]
  },
  {
   "cell_type": "code",
   "execution_count": 10,
   "metadata": {},
   "outputs": [
    {
     "data": {
      "text/html": [
       "<div>\n",
       "<style scoped>\n",
       "    .dataframe tbody tr th:only-of-type {\n",
       "        vertical-align: middle;\n",
       "    }\n",
       "\n",
       "    .dataframe tbody tr th {\n",
       "        vertical-align: top;\n",
       "    }\n",
       "\n",
       "    .dataframe thead th {\n",
       "        text-align: right;\n",
       "    }\n",
       "</style>\n",
       "<table border=\"1\" class=\"dataframe\">\n",
       "  <thead>\n",
       "    <tr style=\"text-align: right;\">\n",
       "      <th></th>\n",
       "      <th>ActionGeo_FullName</th>\n",
       "      <th>counts</th>\n",
       "    </tr>\n",
       "  </thead>\n",
       "  <tbody>\n",
       "    <tr>\n",
       "      <th>0</th>\n",
       "      <td>Gaza, Israel (general), Israel</td>\n",
       "      <td>4456</td>\n",
       "    </tr>\n",
       "    <tr>\n",
       "      <th>1</th>\n",
       "      <td>Jerusalem, Israel (general), Israel</td>\n",
       "      <td>2409</td>\n",
       "    </tr>\n",
       "    <tr>\n",
       "      <th>2</th>\n",
       "      <td>United States</td>\n",
       "      <td>1359</td>\n",
       "    </tr>\n",
       "    <tr>\n",
       "      <th>3</th>\n",
       "      <td>Washington, District of Columbia, United States</td>\n",
       "      <td>1160</td>\n",
       "    </tr>\n",
       "    <tr>\n",
       "      <th>4</th>\n",
       "      <td>New York, United States</td>\n",
       "      <td>1095</td>\n",
       "    </tr>\n",
       "    <tr>\n",
       "      <th>...</th>\n",
       "      <td>...</td>\n",
       "      <td>...</td>\n",
       "    </tr>\n",
       "    <tr>\n",
       "      <th>4973</th>\n",
       "      <td>Kill Devil Hills, North Carolina, United States</td>\n",
       "      <td>1</td>\n",
       "    </tr>\n",
       "    <tr>\n",
       "      <th>4974</th>\n",
       "      <td>King Saud University, Ar Riya?, Saudi Arabia</td>\n",
       "      <td>1</td>\n",
       "    </tr>\n",
       "    <tr>\n",
       "      <th>4975</th>\n",
       "      <td>Kingdom Of Buganda, Mityana, Uganda</td>\n",
       "      <td>1</td>\n",
       "    </tr>\n",
       "    <tr>\n",
       "      <th>4976</th>\n",
       "      <td>Kingstown, Saint George, Saint Vincent And The...</td>\n",
       "      <td>1</td>\n",
       "    </tr>\n",
       "    <tr>\n",
       "      <th>4977</th>\n",
       "      <td>Aadloun, Liban-Sud, Lebanon</td>\n",
       "      <td>1</td>\n",
       "    </tr>\n",
       "  </tbody>\n",
       "</table>\n",
       "<p>4978 rows × 2 columns</p>\n",
       "</div>"
      ],
      "text/plain": [
       "                                     ActionGeo_FullName  counts\n",
       "0                        Gaza, Israel (general), Israel    4456\n",
       "1                   Jerusalem, Israel (general), Israel    2409\n",
       "2                                         United States    1359\n",
       "3       Washington, District of Columbia, United States    1160\n",
       "4                               New York, United States    1095\n",
       "...                                                 ...     ...\n",
       "4973    Kill Devil Hills, North Carolina, United States       1\n",
       "4974       King Saud University, Ar Riya?, Saudi Arabia       1\n",
       "4975                Kingdom Of Buganda, Mityana, Uganda       1\n",
       "4976  Kingstown, Saint George, Saint Vincent And The...       1\n",
       "4977                        Aadloun, Liban-Sud, Lebanon       1\n",
       "\n",
       "[4978 rows x 2 columns]"
      ]
     },
     "execution_count": 10,
     "metadata": {},
     "output_type": "execute_result"
    }
   ],
   "source": [
    "gdelt_events.groupby(['ActionGeo_FullName']).size().sort_values(ascending=False).reset_index(name='counts')"
   ]
  },
  {
   "cell_type": "code",
   "execution_count": 26,
   "metadata": {},
   "outputs": [
    {
     "data": {
      "text/plain": [
       "4456"
      ]
     },
     "execution_count": 26,
     "metadata": {},
     "output_type": "execute_result"
    }
   ],
   "source": [
    "names_values = gdelt_events['ActionGeo_FullName'].dropna()\n",
    "names_list = names_values.tolist()\n",
    "algorithm.count(names_list, 'Gaza, Israel (general), Israel')"
   ]
  },
  {
   "cell_type": "code",
   "execution_count": 27,
   "metadata": {},
   "outputs": [
    {
     "data": {
      "text/plain": [
       "4456"
      ]
     },
     "execution_count": 27,
     "metadata": {},
     "output_type": "execute_result"
    }
   ],
   "source": [
    "names_arr = names_values.to_numpy()\n",
    "algorithm.count(names_arr, 'Gaza, Israel (general), Israel')"
   ]
  },
  {
   "cell_type": "code",
   "execution_count": null,
   "metadata": {},
   "outputs": [],
   "source": []
  }
 ],
 "metadata": {
  "kernelspec": {
   "display_name": "Python 3",
   "language": "python",
   "name": "python3"
  },
  "language_info": {
   "codemirror_mode": {
    "name": "ipython",
    "version": 3
   },
   "file_extension": ".py",
   "mimetype": "text/x-python",
   "name": "python",
   "nbconvert_exporter": "python",
   "pygments_lexer": "ipython3",
   "version": "3.8.2"
  }
 },
 "nbformat": 4,
 "nbformat_minor": 4
}
