{
 "cells": [
  {
   "cell_type": "code",
   "execution_count": 23,
   "metadata": {},
   "outputs": [],
   "source": [
    "import datetime as dt\n",
    "import gdelt as gd\n",
    "from newspaper import Article\n",
    "import nltk"
   ]
  },
  {
   "cell_type": "code",
   "execution_count": 2,
   "metadata": {},
   "outputs": [],
   "source": [
    "gdelt_client = gd.gdelt()"
   ]
  },
  {
   "cell_type": "code",
   "execution_count": 5,
   "metadata": {},
   "outputs": [],
   "source": [
    "date = dt.datetime.now() - dt.timedelta(days=1)\n",
    "date_string = date.strftime('%Y %m %d')\n",
    "gdelt_events = gdelt_client.Search(date_string, table='events', coverage=True)"
   ]
  },
  {
   "cell_type": "code",
   "execution_count": 48,
   "metadata": {},
   "outputs": [],
   "source": [
    "#highest_count = gdelt_events['SOURCEURL'].value_counts()[0]\n",
    "#gdelt_events.groupby('SOURCEURL').filter(lambda value_count: len(value_count) == highest_count)\n",
    "\n",
    "def get_mode_url(events):\n",
    "    return events['SOURCEURL'].mode()[0]\n",
    "\n",
    "def get_most_common_urls(events, count):\n",
    "    return events['SOURCEURL'].value_counts()[0:count].index.to_list()\n",
    "\n",
    "def prepare_parsing():\n",
    "    nltk.download('punkt')\n",
    "\n",
    "def get_parsed_article(url):\n",
    "    article = Article(url)\n",
    "    article.download()\n",
    "    article.parse()\n",
    "    article.nlp()\n",
    "    return article\n",
    "\n",
    "def print_article(article):\n",
    "    print(article.title)\n",
    "    print(article.publish_date)\n",
    "    print(article.keywords)\n",
    "    print(article.summary)\n",
    "\n",
    "def print_articles(urls):\n",
    "    prepare_parsing()\n",
    "    for url in urls:\n",
    "        article = get_parsed_article(url)\n",
    "        print_article(article)\n",
    "        print('')\n"
   ]
  },
  {
   "cell_type": "code",
   "execution_count": 50,
   "metadata": {},
   "outputs": [
    {
     "name": "stderr",
     "output_type": "stream",
     "text": [
      "[nltk_data] Downloading package punkt to\n",
      "[nltk_data]     /home/gisfromscratch/nltk_data...\n",
      "[nltk_data]   Package punkt is already up-to-date!\n"
     ]
    },
    {
     "name": "stdout",
     "output_type": "stream",
     "text": [
      "Coronavirus in Russia: The Latest News\n",
      "2021-05-26 00:00:00\n",
      "['announced', 'latest', 'vaccine', 'agency', 'coronavirus', 'reported', 'sputnik', 'russia', 'russian', 'russias', 'v']\n",
      "— Russia has made deals to sell more than 205 million doses of its Sputnik V coronavirus vaccine across 45 countries, Forbes Russia reported Tuesday.\n",
      "— Russia has accused the United States of targeting its Sputnik V coronavirus vaccine by pressuring Brazil to reject it, the jab's developer said Monday.\n",
      "Feb. 25— Guatemala became the latest country to authorize Russia's Sputnik V coronavirus vaccine, the jab's developers announced Thursday.\n",
      "Feb. 19— San Marino became the latest country to authorize Russia's Sputnik V coronavirus vaccine, the shot's developers announced Friday.\n",
      "— Russia's Sputnik V coronavirus vaccine has been certified and approved for mass use in Uzbekistan, Uzbekistan's state coronavirus commission announced Wednesday.\n",
      "\n",
      "HRC must take action against law violation in Palestine: Momen\n",
      "None\n",
      "['council', 'foreign', 'minister', 'international', 'human', 'violation', 'hrc', 'rights', 'momen', 'palestine', 'violations', 'action', 'law']\n",
      "DHAKA, 27 May 2021 (BSS) – Foreign Minister Dr AK Abdul Momen today urged Human Rights Council (HRC) to take action against violations of international law in Palestine while expressing strong condemnation for illegal and belligerent acts by Israel there.\n",
      "“The Human Rights Council must take decisive action towards ensuring accountability and justice for all violations of international law in the occupied Palestinian Territory,” he said.\n",
      "The Foreign Minister was addressing a virtual Special Session of the Human Rights Council on the Palestine issue held today.\n",
      "The Foreign Minister emphasized on a UN system-wide coordinated approach and meaningful action by the UN Security Council for a permanent solution of the crisis.\n",
      "Foreign Ministers of Palestine, Turkey, Namibia, Pakistan, Libya, Tunisia, Kuwait, Syria, Qatar, Egypt and Malaysia, among others, attended the event.\n",
      "\n",
      "Bangladesh urges UN to take action against Israel’s violation of Palestinian rights\n",
      "None\n",
      "['foreign', 'council', 'minister', 'bangladesh', 'israel', 'human', 'violation', 'unlawful', 'urges', 'rights', 'israels', 'palestinian', 'illegal', 'violations', 'action', 'virtually']\n",
      "Foreign minister AK Abdul Momen has called on the UN Human Rights Council to take decisive action towards ensuring accountability and justice for all violations of international laws in the Occupied Palestinian Territory, reports UNB.\n",
      "He was addressing a special session of the Human Rights Council on Palestine issue held virtually on Thursday.\n",
      "Condemning strongly the illegal and belligerent actions by Israel, the foreign minister said that Israel must end its continued illegal occupation, unlawful settlement activities and annexation.\n",
      "\n",
      "A quest for the true identity of Omar ibn Said, a Muslim man enslaved in the Carolinas\n",
      "None\n",
      "['ibn', 'quest', 'omars', 'men', 'wrote', 'identity', 'omar', 'owen', 'muslim', 'read', 'enslaved', 'carolinas', 'true', 'africa', 'man', 'futa']\n",
      "'I Am Omar' A quest for the true identity of Omar ibn Said, a Muslim man enslaved in the CarolinasThis story was supported by the Pulitzer Center.\n",
      "He was a big disbeliever and did not fear Allah at all,\" Omar wrote, as Gueye translated it.\n",
      "And when Omar wrote about this moment later, he didn’t describe himself alone, the way he did when he escaped Johnson.\n",
      "Those readers learned about an enslaved man who’d escaped from a South Carolina rice planter, been captured and then thrown into jail.\n",
      "And he thinks Omar wrote that a large army captured him and took him to a specific place.\n",
      "\n",
      "Hamas and Iran’s War-By-Proxy Against the Jews\n",
      "2021-05-27 00:00:00\n",
      "['jerusalem', 'war', 'israel', 'hamass', 'terror', 'warbyproxy', 'palestinian', 'arab', 'hamas', 'irans', 'israeli', 'jews']\n",
      "On May 15, Hamas’s former “president” Ismail Haniyeh put Abu Marzouk’s comments in a historical/political context when he explained to Arab news media the goal of Hamas’s war against the Jews.\n",
      "Hamas fired rockets at Jerusalem and rode the wave of incitement and violence it initiated in order to focus international attention on Jerusalem.\n",
      "It would be more accurate to label the latest assault on Israel the 4th Iran-backed Hamas rocket war against Israel.\n",
      "The ayatollahs’ insistence paid off, and when the JCPOA was ultimately signed, Iran’s terror warfare by proxy—Hezbollah in Lebanon and Syria, Hamas in Gaza, Iraqi special groups and Yemen’s Houthi militias among others—got a free pass.\n",
      "The era of a monolithic Arab minority in Israel is over, scaring Hamas, Palestinian Islamic Jihad and other extremists to death.\n",
      "\n"
     ]
    }
   ],
   "source": [
    "urls = get_most_common_urls(gdelt_events, 5)\n",
    "print_articles(urls)"
   ]
  },
  {
   "cell_type": "code",
   "execution_count": 46,
   "metadata": {},
   "outputs": [
    {
     "data": {
      "text/plain": [
       "['https://www.themoscowtimes.com/2021/05/26/coronavirus-in-russia-the-latest-news-may-27-a69117',\n",
       " 'http://www.bssnews.net/?p=584564',\n",
       " 'https://en.prothomalo.com/bangladesh/bangladesh-urges-un-to-take-action-against-israels-violation-of-palestinian-rights',\n",
       " 'https://www.postandcourier.com/omar/a-quest-for-the-true-identity-of-omar-ibn-said-a-muslim-man-enslaved-in/article_cb1875c0-9ae5-11eb-a36e-eb1811fc743d.html',\n",
       " 'https://www.algemeiner.com/2021/05/27/hamas-and-irans-war-by-proxy-against-the-jews/']"
      ]
     },
     "execution_count": 46,
     "metadata": {},
     "output_type": "execute_result"
    }
   ],
   "source": [
    "gdelt_\n",
    "#print_article(article)"
   ]
  },
  {
   "cell_type": "code",
   "execution_count": null,
   "metadata": {},
   "outputs": [],
   "source": []
  }
 ],
 "metadata": {
  "kernelspec": {
   "display_name": "Python 3",
   "language": "python",
   "name": "python3"
  },
  "language_info": {
   "codemirror_mode": {
    "name": "ipython",
    "version": 3
   },
   "file_extension": ".py",
   "mimetype": "text/x-python",
   "name": "python",
   "nbconvert_exporter": "python",
   "pygments_lexer": "ipython3",
   "version": "3.8.5"
  }
 },
 "nbformat": 4,
 "nbformat_minor": 4
}
