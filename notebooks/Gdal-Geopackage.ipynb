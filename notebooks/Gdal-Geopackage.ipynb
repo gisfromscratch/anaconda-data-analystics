{
 "cells": [
  {
   "cell_type": "markdown",
   "metadata": {},
   "source": [
    "# Read Geopackages\n",
    "https://pcjericks.github.io/py-gdalogr-cookbook/\n",
    "\n",
    "https://gdal.org/python/"
   ]
  },
  {
   "cell_type": "code",
   "execution_count": 2,
   "metadata": {},
   "outputs": [],
   "source": [
    "from osgeo import ogr"
   ]
  },
  {
   "cell_type": "code",
   "execution_count": 26,
   "metadata": {},
   "outputs": [],
   "source": [
    "def printDriverNames():\n",
    "    cnt = ogr.GetDriverCount()\n",
    "    drivers = []  # Empty List\n",
    "\n",
    "    for i in range(cnt):\n",
    "        driver = ogr.GetDriver(i)\n",
    "        driverName = driver.GetName()\n",
    "        if not driverName in drivers:\n",
    "            drivers.append(driverName)\n",
    "\n",
    "    drivers.sort() # Sorting the messy list of ogr drivers\n",
    "\n",
    "    for driver in drivers:\n",
    "        print(driver)\n",
    "\n",
    "def getGeomTypeName(geometryType):\n",
    "    if 0 == geometryType:\n",
    "        return \"Unknown\"\n",
    "    if 1 == geometryType:\n",
    "        return \"Point\"\n",
    "    if 2 == geometryType:\n",
    "        return \"Linestring\"\n",
    "    if 3 == geometryType:\n",
    "        return \"Polygon\"\n",
    "    if 4 == geometryType:\n",
    "        return \"Multipoint\"\n",
    "    if 5 == geometryType:\n",
    "        return \"Multilinestring\"\n",
    "    if 6 == geometryType:\n",
    "        return \"Multipolygon\"\n",
    "    if 7 == geometryType:\n",
    "        return \"Geometrycollection\"\n",
    "    return \"<Not specified>\"\n",
    "    \n",
    "def printLayerMetadata(layer):\n",
    "    print(layer.GetName())\n",
    "    print(getGeomTypeName(layer.GetGeomType()))\n",
    "    print(layer.GetFIDColumn())\n",
    "    print(layer.GetGeometryColumn())\n",
    "        \n",
    "def printLayerDefinition(layer):\n",
    "    layerDefinition = layer.GetLayerDefn()\n",
    "    for fieldIndex in range(layerDefinition.GetFieldCount()):\n",
    "        print(layerDefinition.GetFieldDefn(fieldIndex).GetName())"
   ]
  },
  {
   "cell_type": "code",
   "execution_count": 54,
   "metadata": {},
   "outputs": [
    {
     "name": "stdout",
     "output_type": "stream",
     "text": [
      "Found 666 ids in layer OSM_Dessau_multipolygons.\n",
      "POLYGON ((12.3225967 51.7331378,12.181572 51.8164557,12.1812612 51.8167569,12.228545 51.8781688,12.2288099 51.8784858,12.2291469 51.8787907,12.2309409 51.8801158,12.2321074 51.8805456,12.2325593 51.8807055,12.2330843 51.8808465,12.2336462 51.8809195,12.2354079 51.8810225,12.2369793 51.881105,12.2955962 51.8804076,12.2961727 51.8797646,12.3185765 51.8389851,12.3194066 51.8372496,12.3428475 51.7863173,12.3473881 51.7718427,12.3475688 51.7708347,12.3518038 51.7368747,12.3517513 51.7366166,12.3514688 51.7357955,12.3509306 51.7353011,12.3484465 51.7338598,12.3225967 51.7331378))\n",
      "Last geometry is { \"type\": \"MultiPolygon\", \"coordinates\": [ [ [ [ 12.2434354, 51.8263771 ], [ 12.2434357, 51.826455 ], [ 12.2433907, 51.8264551 ], [ 12.2433903, 51.8263771 ], [ 12.2434354, 51.8263771 ] ] ] ] }\n"
     ]
    }
   ],
   "source": [
    "#printDriverNames()\n",
    "\n",
    "driverName = \"GPKG\"\n",
    "driver = ogr.GetDriverByName(driverName)\n",
    "if (driver is None):\n",
    "    print(\"Geopackage driver is not available!\")\n",
    "    \n",
    "filePath = \"D:/OSM/Deutschland/Dessau/OSM_Dessau_multipolygons.gpkg\"\n",
    "dataSource = ogr.Open(filePath, 0)\n",
    "layer = dataSource.GetLayer()\n",
    "\n",
    "#printLayerMetadata(layer)\n",
    "#printLayerDefinition(layer)\n",
    "\n",
    "# Collect all geometries\n",
    "osmIds = []\n",
    "geometries = ogr.Geometry(ogr.wkbGeometryCollection)\n",
    "lastGeoJson = \"\"\n",
    "for feature in layer:\n",
    "    osmIds.append(feature.GetField(\"osm_id\"))\n",
    "    geometry = feature.GetGeometryRef()\n",
    "    geometries.AddGeometry(geometry)\n",
    "    lastGeoJson = geometry.ExportToJson()\n",
    "layer.ResetReading()\n",
    "\n",
    "print(\"Found {0} ids in layer {1}.\".format(len(osmIds), layer.GetName()))\n",
    "\n",
    "# Calculate convex hull\n",
    "convexHull = geometries.ConvexHull()\n",
    "print(convexHull)\n",
    "\n",
    "print(\"Last geometry is {}\".format(lastGeoJson))\n",
    "\n",
    "layer = None\n",
    "dataSource = None"
   ]
  },
  {
   "cell_type": "code",
   "execution_count": null,
   "metadata": {},
   "outputs": [],
   "source": []
  }
 ],
 "metadata": {
  "kernelspec": {
   "display_name": "Python 3",
   "language": "python",
   "name": "python3"
  },
  "language_info": {
   "codemirror_mode": {
    "name": "ipython",
    "version": 3
   },
   "file_extension": ".py",
   "mimetype": "text/x-python",
   "name": "python",
   "nbconvert_exporter": "python",
   "pygments_lexer": "ipython3",
   "version": "3.6.4"
  }
 },
 "nbformat": 4,
 "nbformat_minor": 2
}
