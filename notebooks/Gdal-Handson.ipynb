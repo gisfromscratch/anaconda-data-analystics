{
 "cells": [
  {
   "cell_type": "markdown",
   "metadata": {},
   "source": [
    "# Gdal - Handson"
   ]
  },
  {
   "cell_type": "code",
   "execution_count": 1,
   "metadata": {},
   "outputs": [],
   "source": [
    "from osgeo import ogr"
   ]
  },
  {
   "cell_type": "markdown",
   "metadata": {},
   "source": [
    "## Simple geometries"
   ]
  },
  {
   "cell_type": "code",
   "execution_count": 5,
   "metadata": {},
   "outputs": [
    {
     "data": {
      "text/plain": [
       "'POINT (1198054.34 648493.09 0)'"
      ]
     },
     "execution_count": 5,
     "metadata": {},
     "output_type": "execute_result"
    }
   ],
   "source": [
    "point = ogr.Geometry(ogr.wkbPoint)\n",
    "point.AddPoint(1198054.34, 648493.09)\n",
    "point.ExportToWkt()"
   ]
  },
  {
   "cell_type": "code",
   "execution_count": 6,
   "metadata": {},
   "outputs": [
    {
     "data": {
      "text/plain": [
       "'LINESTRING (1116651.43937912 637392.696988746 0,1188804.01084985 652655.740953707 0,1226730.36252036 634155.081602239 0,1281307.30760719 636467.664021172 0)'"
      ]
     },
     "execution_count": 6,
     "metadata": {},
     "output_type": "execute_result"
    }
   ],
   "source": [
    "line = ogr.Geometry(ogr.wkbLineString)\n",
    "line.AddPoint(1116651.439379124, 637392.6969887456)\n",
    "line.AddPoint(1188804.0108498496, 652655.7409537067)\n",
    "line.AddPoint(1226730.3625203592, 634155.0816022386)\n",
    "line.AddPoint(1281307.30760719, 636467.6640211721)\n",
    "line.ExportToWkt()"
   ]
  },
  {
   "cell_type": "code",
   "execution_count": 7,
   "metadata": {},
   "outputs": [
    {
     "data": {
      "text/plain": [
       "'POLYGON ((1179091.16469033 712782.883845978 0,1161053.02182265 667456.268434881 0,1214704.9339419 641092.828859039 0,1228580.42845551 682719.312399842 0,1218405.0658122 721108.180554139 0,1179091.16469033 712782.883845978 0))'"
      ]
     },
     "execution_count": 7,
     "metadata": {},
     "output_type": "execute_result"
    }
   ],
   "source": [
    "# Create ring\n",
    "ring = ogr.Geometry(ogr.wkbLinearRing)\n",
    "ring.AddPoint(1179091.1646903288, 712782.8838459781)\n",
    "ring.AddPoint(1161053.0218226474, 667456.2684348812)\n",
    "ring.AddPoint(1214704.933941905, 641092.8288590391)\n",
    "ring.AddPoint(1228580.428455506, 682719.3123998424)\n",
    "ring.AddPoint(1218405.0658121984, 721108.1805541387)\n",
    "ring.AddPoint(1179091.1646903288, 712782.8838459781)\n",
    "\n",
    "# Create polygon\n",
    "poly = ogr.Geometry(ogr.wkbPolygon)\n",
    "poly.AddGeometry(ring)\n",
    "\n",
    "poly.ExportToWkt()"
   ]
  },
  {
   "cell_type": "code",
   "execution_count": 8,
   "metadata": {},
   "outputs": [
    {
     "data": {
      "text/plain": [
       "'POLYGON ((1154115.27456585 686419.444270136 0,1154115.27456585 653118.257437493 0,1165678.18666051 653118.257437493 0,1165678.18666051 686419.444270136 0,1154115.27456585 686419.444270136 0),(1149490.10972798 691044.609108003 0,1149490.10972798 648030.57611584 0,1191579.10975257 648030.57611584 0,1191579.10975257 691044.609108003 0,1149490.10972798 691044.609108003 0))'"
      ]
     },
     "execution_count": 8,
     "metadata": {},
     "output_type": "execute_result"
    }
   ],
   "source": [
    "# Create outer ring\n",
    "outRing = ogr.Geometry(ogr.wkbLinearRing)\n",
    "outRing.AddPoint(1154115.274565847, 686419.4442701361)\n",
    "outRing.AddPoint(1154115.274565847, 653118.2574374934)\n",
    "outRing.AddPoint(1165678.1866605144, 653118.2574374934)\n",
    "outRing.AddPoint(1165678.1866605144, 686419.4442701361)\n",
    "outRing.AddPoint(1154115.274565847, 686419.4442701361)\n",
    "\n",
    "# Create inner ring\n",
    "innerRing = ogr.Geometry(ogr.wkbLinearRing)\n",
    "innerRing.AddPoint(1149490.1097279799, 691044.6091080031)\n",
    "innerRing.AddPoint(1149490.1097279799, 648030.5761158396)\n",
    "innerRing.AddPoint(1191579.1097525698, 648030.5761158396)\n",
    "innerRing.AddPoint(1191579.1097525698, 691044.6091080031)\n",
    "innerRing.AddPoint(1149490.1097279799, 691044.6091080031)\n",
    "\n",
    "# Create polygon\n",
    "poly = ogr.Geometry(ogr.wkbPolygon)\n",
    "poly.AddGeometry(outRing)\n",
    "poly.AddGeometry(innerRing)\n",
    "\n",
    "poly.ExportToWkt()"
   ]
  },
  {
   "cell_type": "code",
   "execution_count": 9,
   "metadata": {},
   "outputs": [
    {
     "data": {
      "text/plain": [
       "'MULTIPOINT (1251243.73616105 598078.795866876 0,1240605.85703396 601778.927737169 0,1250318.70319348 606404.092575036 0)'"
      ]
     },
     "execution_count": 9,
     "metadata": {},
     "output_type": "execute_result"
    }
   ],
   "source": [
    "multipoint = ogr.Geometry(ogr.wkbMultiPoint)\n",
    "\n",
    "point1 = ogr.Geometry(ogr.wkbPoint)\n",
    "point1.AddPoint(1251243.7361610543, 598078.7958668759)\n",
    "multipoint.AddGeometry(point1)\n",
    "\n",
    "point2 = ogr.Geometry(ogr.wkbPoint)\n",
    "point2.AddPoint(1240605.8570339603, 601778.9277371694)\n",
    "multipoint.AddGeometry(point2)\n",
    "\n",
    "point3 = ogr.Geometry(ogr.wkbPoint)\n",
    "point3.AddPoint(1250318.7031934808, 606404.0925750365)\n",
    "multipoint.AddGeometry(point3)\n",
    "\n",
    "multipoint.ExportToWkt()"
   ]
  },
  {
   "cell_type": "code",
   "execution_count": 10,
   "metadata": {},
   "outputs": [
    {
     "data": {
      "text/plain": [
       "'MULTILINESTRING ((1214242.41745812 617041.971702131 0,1234593.14274473 629529.916764372 0),(1184641.36249577 626754.817861651 0,1219792.61526356 606866.609058823 0))'"
      ]
     },
     "execution_count": 10,
     "metadata": {},
     "output_type": "execute_result"
    }
   ],
   "source": [
    "multiline = ogr.Geometry(ogr.wkbMultiLineString)\n",
    "\n",
    "line1 = ogr.Geometry(ogr.wkbLineString)\n",
    "line1.AddPoint(1214242.4174581182, 617041.9717021306)\n",
    "line1.AddPoint(1234593.142744733, 629529.9167643716)\n",
    "multiline.AddGeometry(line1)\n",
    "\n",
    "line1 = ogr.Geometry(ogr.wkbLineString)\n",
    "line1.AddPoint(1184641.3624957693, 626754.8178616514)\n",
    "line1.AddPoint(1219792.6152635587, 606866.6090588232)\n",
    "multiline.AddGeometry(line1)\n",
    "\n",
    "multiline.ExportToWkt()"
   ]
  },
  {
   "cell_type": "code",
   "execution_count": 11,
   "metadata": {},
   "outputs": [
    {
     "data": {
      "text/plain": [
       "'MULTIPOLYGON (((1204067.05481481 634617.598086025 0,1204067.05481481 620742.103572424 0,1215167.45042569 620742.103572424 0,1215167.45042569 634617.598086025 0,1204067.05481481 634617.598086025 0)),((1179553.68117412 647105.543148266 0,1179553.68117412 626292.301377865 0,1194354.20865529 626292.301377865 0,1194354.20865529 647105.543148266 0,1179553.68117412 647105.543148266 0)))'"
      ]
     },
     "execution_count": 11,
     "metadata": {},
     "output_type": "execute_result"
    }
   ],
   "source": [
    "multipolygon = ogr.Geometry(ogr.wkbMultiPolygon)\n",
    "\n",
    "# Create ring #1\n",
    "ring1 = ogr.Geometry(ogr.wkbLinearRing)\n",
    "ring1.AddPoint(1204067.0548148106, 634617.5980860253)\n",
    "ring1.AddPoint(1204067.0548148106, 620742.1035724243)\n",
    "ring1.AddPoint(1215167.4504256917, 620742.1035724243)\n",
    "ring1.AddPoint(1215167.4504256917, 634617.5980860253)\n",
    "ring1.AddPoint(1204067.0548148106, 634617.5980860253)\n",
    "\n",
    "# Create polygon #1\n",
    "poly1 = ogr.Geometry(ogr.wkbPolygon)\n",
    "poly1.AddGeometry(ring1)\n",
    "multipolygon.AddGeometry(poly1)\n",
    "\n",
    "# Create ring #2\n",
    "ring2 = ogr.Geometry(ogr.wkbLinearRing)\n",
    "ring2.AddPoint(1179553.6811741155, 647105.5431482664)\n",
    "ring2.AddPoint(1179553.6811741155, 626292.3013778647)\n",
    "ring2.AddPoint(1194354.20865529, 626292.3013778647)\n",
    "ring2.AddPoint(1194354.20865529, 647105.5431482664)\n",
    "ring2.AddPoint(1179553.6811741155, 647105.5431482664)\n",
    "\n",
    "# Create polygon #2\n",
    "poly2 = ogr.Geometry(ogr.wkbPolygon)\n",
    "poly2.AddGeometry(ring2)\n",
    "multipolygon.AddGeometry(poly2)\n",
    "\n",
    "multipolygon.ExportToWkt()"
   ]
  },
  {
   "cell_type": "code",
   "execution_count": 12,
   "metadata": {},
   "outputs": [
    {
     "data": {
      "text/plain": [
       "'GEOMETRYCOLLECTION (POINT (-122.23 47.09 0),LINESTRING (-122.6 47.14 0,-122.48 47.23 0))'"
      ]
     },
     "execution_count": 12,
     "metadata": {},
     "output_type": "execute_result"
    }
   ],
   "source": [
    "# Create a geometry collection\n",
    "geomcol =  ogr.Geometry(ogr.wkbGeometryCollection)\n",
    "\n",
    "# Add a point\n",
    "point = ogr.Geometry(ogr.wkbPoint)\n",
    "point.AddPoint(-122.23, 47.09)\n",
    "geomcol.AddGeometry(point)\n",
    "\n",
    "# Add a line\n",
    "line = ogr.Geometry(ogr.wkbLineString)\n",
    "line.AddPoint(-122.60, 47.14)\n",
    "line.AddPoint(-122.48, 47.23)\n",
    "geomcol.AddGeometry(line)\n",
    "\n",
    "geomcol.ExportToWkt()"
   ]
  },
  {
   "cell_type": "markdown",
   "metadata": {},
   "source": [
    "## Export to GeoJson"
   ]
  },
  {
   "cell_type": "code",
   "execution_count": 15,
   "metadata": {},
   "outputs": [
    {
     "name": "stdout",
     "output_type": "stream",
     "text": [
      "Written to C:\\Users\\DEVELO~1\\AppData\\Local\\Temp\\test.geojson\n"
     ]
    }
   ],
   "source": [
    "import os\n",
    "import tempfile\n",
    "\n",
    "# Create the output Driver\n",
    "outDriver = ogr.GetDriverByName('GeoJSON')\n",
    "\n",
    "# Create the output GeoJSON\n",
    "outFile = os.path.join(tempfile.gettempdir(), 'test.geojson')\n",
    "outDataSource = outDriver.CreateDataSource(outFile)\n",
    "outLayer = outDataSource.CreateLayer('Polygons', geom_type=ogr.wkbPolygon )\n",
    "\n",
    "# Get the output Layer's Feature Definition\n",
    "featureDefn = outLayer.GetLayerDefn()\n",
    "\n",
    "# create a new feature\n",
    "outFeature = ogr.Feature(featureDefn)\n",
    "\n",
    "# Set new geometry\n",
    "outFeature.SetGeometry(poly)\n",
    "\n",
    "# Add new feature to output Layer\n",
    "outLayer.CreateFeature(outFeature)\n",
    "\n",
    "# dereference the feature\n",
    "outFeature = None\n",
    "\n",
    "# Save and close DataSources\n",
    "outDataSource = None\n",
    "\n",
    "print ('Written to %s' % (outFile))"
   ]
  },
  {
   "cell_type": "code",
   "execution_count": null,
   "metadata": {},
   "outputs": [],
   "source": []
  }
 ],
 "metadata": {
  "kernelspec": {
   "display_name": "Python 3",
   "language": "python",
   "name": "python3"
  },
  "language_info": {
   "codemirror_mode": {
    "name": "ipython",
    "version": 3
   },
   "file_extension": ".py",
   "mimetype": "text/x-python",
   "name": "python",
   "nbconvert_exporter": "python",
   "pygments_lexer": "ipython3",
   "version": "3.6.4"
  }
 },
 "nbformat": 4,
 "nbformat_minor": 2
}
