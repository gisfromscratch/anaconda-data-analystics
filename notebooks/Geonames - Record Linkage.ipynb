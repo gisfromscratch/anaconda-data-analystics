{
 "cells": [
  {
   "cell_type": "code",
   "execution_count": 133,
   "metadata": {},
   "outputs": [],
   "source": [
    "import pandas as pd\n",
    "import recordlinkage as rl\n",
    "import json"
   ]
  },
  {
   "cell_type": "markdown",
   "metadata": {},
   "source": [
    "### Read two geonames files and concat them to one data frame"
   ]
  },
  {
   "cell_type": "code",
   "execution_count": 134,
   "metadata": {},
   "outputs": [
    {
     "data": {
      "text/plain": [
       "2380"
      ]
     },
     "execution_count": 134,
     "metadata": {},
     "output_type": "execute_result"
    }
   ],
   "source": [
    "header = ['geonameid','name','asciiname','alternatenames','latitude','longitude','feature class','feature code','country code','cc2','admin1 code','admin2 code','admin3 code','admin4 code','population','elevation','dem','timezone','modification date']\n",
    "geonamesFirst = pd.read_csv('D:/Geonames/modifications-2018-02-24.txt', delimiter='\\t', header=None, names=header, low_memory=False)\n",
    "geonamesSecond = pd.read_csv('D:/Geonames/modifications-2018-02-27.txt', delimiter='\\t', header=None, names=header, low_memory=False)\n",
    "geonamesUnion = pd.concat([geonamesFirst, geonamesSecond])\n",
    "#len(geonamesUnion) - len(geonamesFirst) - len(geonamesSecond)\n",
    "len(geonamesUnion)"
   ]
  },
  {
   "cell_type": "markdown",
   "metadata": {},
   "source": [
    "### Ensure an unique index"
   ]
  },
  {
   "cell_type": "code",
   "execution_count": 135,
   "metadata": {},
   "outputs": [
    {
     "data": {
      "text/plain": [
       "2380"
      ]
     },
     "execution_count": 135,
     "metadata": {},
     "output_type": "execute_result"
    }
   ],
   "source": [
    "geonamesFirst.reset_index(drop=True, inplace=True)\n",
    "geonamesSecond.reset_index(drop=True, inplace=True)\n",
    "geonamesUnion.reset_index(drop=True, inplace=True)\n",
    "len(geonamesUnion)"
   ]
  },
  {
   "cell_type": "markdown",
   "metadata": {},
   "source": [
    "### Create the cartesian product indexer"
   ]
  },
  {
   "cell_type": "code",
   "execution_count": 136,
   "metadata": {},
   "outputs": [
    {
     "name": "stdout",
     "output_type": "stream",
     "text": [
      "WARNING:recordlinkage:indexing - performance warning - A full index can result in large number of record pairs.\n"
     ]
    },
    {
     "data": {
      "text/plain": [
       "3803240"
      ]
     },
     "execution_count": 136,
     "metadata": {},
     "output_type": "execute_result"
    }
   ],
   "source": [
    "indexer = rl.Index()\n",
    "#indexer.block('geonameid')\n",
    "indexer.full()\n",
    "blocks = indexer.index(geonamesFirst, geonamesUnion)\n",
    "len(blocks)"
   ]
  },
  {
   "cell_type": "markdown",
   "metadata": {},
   "source": [
    "### Find matching candidates"
   ]
  },
  {
   "cell_type": "code",
   "execution_count": 137,
   "metadata": {},
   "outputs": [
    {
     "name": "stdout",
     "output_type": "stream",
     "text": [
      "                 id          name         ascii           lat           lon\n",
      "count  3.803240e+06  3.803240e+06  3.803240e+06  3.803240e+06  3.803240e+06\n",
      "mean   4.201681e-04  1.412454e-02  1.608891e-02  2.053302e-02  2.000531e-02\n",
      "std    2.049370e-02  1.180044e-01  1.258176e-01  1.418147e-01  1.400182e-01\n",
      "min    0.000000e+00  0.000000e+00  0.000000e+00  0.000000e+00  0.000000e+00\n",
      "25%    0.000000e+00  0.000000e+00  0.000000e+00  0.000000e+00  0.000000e+00\n",
      "50%    0.000000e+00  0.000000e+00  0.000000e+00  0.000000e+00  0.000000e+00\n",
      "75%    0.000000e+00  0.000000e+00  0.000000e+00  0.000000e+00  0.000000e+00\n",
      "max    1.000000e+00  1.000000e+00  1.000000e+00  1.000000e+00  1.000000e+00\n",
      "     id  name  ascii  lat  lon\n",
      "0 0   1   1.0    1.0    1    1\n",
      "1 1   1   1.0    1.0    1    1\n",
      "2 2   1   1.0    1.0    1    1\n",
      "3 3   1   1.0    1.0    1    1\n",
      "4 4   1   1.0    1.0    1    1\n",
      "5282\n"
     ]
    }
   ],
   "source": [
    "comparer = rl.Compare()\n",
    "comparer.exact('geonameid', 'geonameid', label='id')\n",
    "comparer.string('name', 'name', method='jarowinkler', threshold=0.85, label='name')\n",
    "comparer.string('asciiname', 'asciiname', method='jarowinkler', threshold=0.85, label='ascii')\n",
    "comparer.exact('latitude', 'latitude', label='lat')\n",
    "comparer.exact('longitude', 'longitude', label='lon')\n",
    "minMatchScore = 3.0\n",
    "compareResult = comparer.compute(blocks, geonamesFirst, geonamesUnion)\n",
    "print(compareResult.describe())\n",
    "compareResult.sum(axis=1).value_counts().sort_index(ascending=False)\n",
    "matches = compareResult[compareResult.sum(axis=1) >= minMatchScore]\n",
    "print(matches.head())\n",
    "print(len(matches))"
   ]
  },
  {
   "cell_type": "markdown",
   "metadata": {},
   "source": [
    "### Obtain records by using the multi-index of the matches and put those pairs into a dictionary"
   ]
  },
  {
   "cell_type": "code",
   "execution_count": 161,
   "metadata": {},
   "outputs": [
    {
     "data": {
      "text/plain": [
       "1598"
      ]
     },
     "execution_count": 161,
     "metadata": {},
     "output_type": "execute_result"
    }
   ],
   "source": [
    "def toDict(series):\n",
    "    seriesAsDict = series.to_dict()\n",
    "    for key, value in seriesAsDict.items():\n",
    "        seriesAsDict[key] = str(value)\n",
    "    return seriesAsDict\n",
    "\n",
    "matchPairs = {}\n",
    "for firstId, secondId in matches.index.get_values():\n",
    "    leftRecord = geonamesFirst.loc[firstId]\n",
    "    rightRecord = geonamesUnion.loc[secondId]\n",
    "    if (firstId in matchPairs):\n",
    "        pairs = matchPairs[firstId]\n",
    "        pairs.append(toDict(rightRecord))\n",
    "    else:\n",
    "        pairs = [toDict(leftRecord), toDict(rightRecord)]\n",
    "        matchPairs[firstId] = pairs\n",
    "\n",
    "len(matchPairs)"
   ]
  },
  {
   "cell_type": "markdown",
   "metadata": {},
   "source": [
    "### Write the pairs to a json file"
   ]
  },
  {
   "cell_type": "code",
   "execution_count": 162,
   "metadata": {},
   "outputs": [],
   "source": [
    "indentLevel = 2\n",
    "with open('D:/Geonames/recordlinkage-results.json', 'w', encoding='utf8') as jsonFile:\n",
    "    json.dump(matchPairs, jsonFile, ensure_ascii=False, indent=indentLevel)"
   ]
  },
  {
   "cell_type": "code",
   "execution_count": null,
   "metadata": {},
   "outputs": [],
   "source": []
  }
 ],
 "metadata": {
  "kernelspec": {
   "display_name": "Python 3",
   "language": "python",
   "name": "python3"
  },
  "language_info": {
   "codemirror_mode": {
    "name": "ipython",
    "version": 3
   },
   "file_extension": ".py",
   "mimetype": "text/x-python",
   "name": "python",
   "nbconvert_exporter": "python",
   "pygments_lexer": "ipython3",
   "version": "3.6.4"
  }
 },
 "nbformat": 4,
 "nbformat_minor": 2
}
