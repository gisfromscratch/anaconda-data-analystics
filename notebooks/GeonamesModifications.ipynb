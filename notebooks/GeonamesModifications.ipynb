{
 "cells": [
  {
   "cell_type": "markdown",
   "metadata": {},
   "source": [
    "# Geonames modifications"
   ]
  },
  {
   "cell_type": "code",
   "execution_count": 1,
   "metadata": {},
   "outputs": [],
   "source": [
    "import pandas as pd\n",
    "import matplotlib.pyplot as plt"
   ]
  },
  {
   "cell_type": "markdown",
   "metadata": {},
   "source": [
    "## Read the CSV file into a pandas dataframe"
   ]
  },
  {
   "cell_type": "code",
   "execution_count": 4,
   "metadata": {},
   "outputs": [],
   "source": [
    "header = ['geonameid','name','asciiname','alternatenames','latitude','longitude','feature class','feature code','country code','cc2','admin1 code','admin2 code','admin3 code','admin4 code','population','elevation','dem','timezone','modification date']\n",
    "geonames = pd.read_csv('D:/Geonames/allCountries.txt', delimiter='\\t', header=None, names=header, low_memory=False)"
   ]
  },
  {
   "cell_type": "markdown",
   "metadata": {},
   "source": [
    "## Create a simple histogram using the modification date"
   ]
  },
  {
   "cell_type": "code",
   "execution_count": 14,
   "metadata": {},
   "outputs": [
    {
     "data": {
      "image/png": "[encoded data removed]",
      "text/plain": [
       "<Figure size 2160x720 with 1 Axes>"
      ]
     },
     "metadata": {
      "needs_background": "light"
     },
     "output_type": "display_data"
    }
   ],
   "source": [
    "dates = pd.to_datetime(geonames['modification date'])\n",
    "plt.rcParams['figure.figsize'] = (30, 10)\n",
    "dates.hist()\n",
    "geonames[\"dates\"] = dates"
   ]
  },
  {
   "cell_type": "markdown",
   "metadata": {},
   "source": [
    "## Filter by month and year"
   ]
  },
  {
   "cell_type": "code",
   "execution_count": 70,
   "metadata": {},
   "outputs": [],
   "source": [
    "import calendar\n",
    "import datetime\n",
    "\n",
    "def filter_month_year(geonames, year, month):\n",
    "    (weekday, days) = calendar.monthrange(year, month)\n",
    "    first_date = datetime.datetime(year, month, 1)\n",
    "    last_date = datetime.datetime(year, month, days, 23, 59, 59)\n",
    "    filter = (first_date <= geonames['dates']) & (geonames['dates'] <= last_date)\n",
    "    return geonames.loc[filter]\n",
    "\n",
    "def filter_day_month_year(geonames, year, month, day):\n",
    "    filter = datetime.datetime(year, month, day) == geonames['dates']\n",
    "    return geonames.loc[filter]\n",
    "\n",
    "#geonames_filtered = filter_day_month_year(geonames, 2020, 1, 1)\n",
    "geonames_filtered = filter_month_year(geonames, 2020, 1)"
   ]
  },
  {
   "cell_type": "markdown",
   "metadata": {},
   "source": [
    "## Create a simple focus map"
   ]
  },
  {
   "cell_type": "code",
   "execution_count": 71,
   "metadata": {},
   "outputs": [
    {
     "data": {
      "application/vnd.jupyter.widget-view+json": {
       "model_id": "07ce2f8f25174b92bc89ac1d515a5a6d",
       "version_major": 2,
       "version_minor": 0
      },
      "text/html": [
       "<p>Failed to display Jupyter Widget of type <code>MapView</code>.</p>\n",
       "<p>\n",
       "  If you're reading this message in the Jupyter Notebook or JupyterLab Notebook, it may mean\n",
       "  that the widgets JavaScript is still loading. If this message persists, it\n",
       "  likely means that the widgets JavaScript library is either not installed or\n",
       "  not enabled. See the <a href=\"https://ipywidgets.readthedocs.io/en/stable/user_install.html\">Jupyter\n",
       "  Widgets Documentation</a> for setup instructions.\n",
       "</p>\n",
       "<p>\n",
       "  If you're reading this message in another frontend (for example, a static\n",
       "  rendering on GitHub or <a href=\"https://nbviewer.jupyter.org/\">NBViewer</a>),\n",
       "  it may mean that your frontend doesn't currently support widgets.\n",
       "</p>\n"
      ],
      "text/plain": [
       "MapView(layout=Layout(height='400px', width='100%'))"
      ]
     },
     "metadata": {},
     "output_type": "display_data"
    },
    {
     "data": {
      "text/html": [
       "<div class=\"map-static-img-preview-32425165-fd58-425a-8e17-8e06986e463e\"><img src=\"\"></img></div>"
      ],
      "text/plain": [
       "<IPython.core.display.HTML object>"
      ]
     },
     "metadata": {},
     "output_type": "display_data"
    }
   ],
   "source": [
    "import arcgis\n",
    "from arcgis.gis import GIS\n",
    "from arcgis.features import FeatureLayer\n",
    "from arcgis.features import GeoAccessor\n",
    "from arcgis.features import SpatialDataFrame\n",
    "from arcgis.geometry.filters import intersects\n",
    "\n",
    "gis = GIS()\n",
    "focus_map = gis.map()\n",
    "focus_map.basemap = 'osm'\n",
    "focus_map"
   ]
  },
  {
   "cell_type": "markdown",
   "metadata": {},
   "source": [
    "## Create a spatial data frame"
   ]
  },
  {
   "cell_type": "code",
   "execution_count": 72,
   "metadata": {},
   "outputs": [],
   "source": [
    "def create_spatial_dataframe(geonames):\n",
    "    geonames_copy = geonames.copy()\n",
    "    return GeoAccessor.from_xy(geonames_copy, x_column=\"longitude\", y_column=\"latitude\", sr=4326)\n",
    "    \n",
    "geonames_spatial = create_spatial_dataframe(geonames_filtered)"
   ]
  },
  {
   "cell_type": "code",
   "execution_count": 73,
   "metadata": {},
   "outputs": [
    {
     "data": {
      "text/plain": [
       "True"
      ]
     },
     "execution_count": 73,
     "metadata": {},
     "output_type": "execute_result"
    }
   ],
   "source": [
    "def create_spatial_bins(geonames_spatial):\n",
    "    hex_bins_url = \"https://services.arcgis.com/P3ePLMYs2RVChkJx/ArcGIS/rest/services/Global_Hex_Grid_500km/FeatureServer/0\"\n",
    "    hex_bins_layer = FeatureLayer(hex_bins_url)\n",
    "    hex_bins_features_dict = {}\n",
    "    for record_index, record in geonames_spatial.iterrows():\n",
    "        record_shape = record['SHAPE']\n",
    "        intersect_filter = intersects(record_shape, sr=record_shape.spatialReference)\n",
    "        hex_ids_result = hex_bins_layer.query(geometry_filter=intersect_filter, return_ids_only=True)\n",
    "        hex_object_ids = hex_ids_result['objectIds']\n",
    "        if 0 < len(hex_object_ids):\n",
    "            for hex_object_id in hex_object_ids:\n",
    "                if hex_object_id in hex_bins_features_dict:\n",
    "                    hex_bin_feature_entry = hex_bins_features_dict[hex_object_id]\n",
    "                    hex_bin_feature_entry['hit_count'] = hex_bin_feature_entry['hit_count'] + 1\n",
    "                    hex_bins_features_dict[hex_object_id] = hex_bin_feature_entry\n",
    "                else:\n",
    "                    hex_bins_features_dict[hex_object_id] = { 'hit_count': 1 }\n",
    "        \n",
    "    object_ids = list(hex_bins_features_dict)\n",
    "    object_ids_filter = \",\".join([str(oid) for oid in object_ids])\n",
    "    hex_features_result = hex_bins_layer.query(object_ids=object_ids_filter)\n",
    "    hex_spatial_dataframe = hex_features_result.sdf\n",
    "    hit_counts = []\n",
    "    for object_id in object_ids:\n",
    "        hit_counts.append(hex_bins_features_dict[object_id]['hit_count'])\n",
    "    hex_spatial_dataframe['hit_count'] = hit_counts\n",
    "    return hex_spatial_dataframe\n",
    "\n",
    "#geonames_aggregated = create_spatial_bins(geonames_spatial)\n",
    "#geonames_aggregated\n",
    "#focus_map.add_layer(geonames_aggregated)\n",
    "geonames_aggregated.spatial.plot(focus_map, renderer_type='c', class_count=5, col='hit_count', cmap='Wistia', alpha=0.7)"
   ]
  },
  {
   "cell_type": "code",
   "execution_count": 58,
   "metadata": {},
   "outputs": [
    {
     "data": {
      "text/plain": [
       "list"
      ]
     },
     "execution_count": 58,
     "metadata": {},
     "output_type": "execute_result"
    }
   ],
   "source": [
    "type(geonames_aggregated)\n",
    "#geonames_spatial['SHAPE']"
   ]
  },
  {
   "cell_type": "code",
   "execution_count": null,
   "metadata": {},
   "outputs": [],
   "source": []
  }
 ],
 "metadata": {
  "kernelspec": {
   "display_name": "Python 3",
   "language": "python",
   "name": "python3"
  },
  "language_info": {
   "codemirror_mode": {
    "name": "ipython",
    "version": 3
   },
   "file_extension": ".py",
   "mimetype": "text/x-python",
   "name": "python",
   "nbconvert_exporter": "python",
   "pygments_lexer": "ipython3",
   "version": "3.6.4"
  }
 },
 "nbformat": 4,
 "nbformat_minor": 2
}
