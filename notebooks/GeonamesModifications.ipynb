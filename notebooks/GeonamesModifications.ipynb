{
 "cells": [
  {
   "cell_type": "markdown",
   "metadata": {},
   "source": [
    "# Geonames modifications"
   ]
  },
  {
   "cell_type": "code",
   "execution_count": 19,
   "metadata": {},
   "outputs": [],
   "source": [
    "import pandas as pd\n",
    "import matplotlib.pyplot as plt"
   ]
  },
  {
   "cell_type": "markdown",
   "metadata": {},
   "source": [
    "## Read the CSV file into a pandas dataframe"
   ]
  },
  {
   "cell_type": "code",
   "execution_count": 20,
   "metadata": {},
   "outputs": [
    {
     "data": {
      "text/html": [
       "<div>\n",
       "<style scoped>\n",
       "    .dataframe tbody tr th:only-of-type {\n",
       "        vertical-align: middle;\n",
       "    }\n",
       "\n",
       "    .dataframe tbody tr th {\n",
       "        vertical-align: top;\n",
       "    }\n",
       "\n",
       "    .dataframe thead th {\n",
       "        text-align: right;\n",
       "    }\n",
       "</style>\n",
       "<table border=\"1\" class=\"dataframe\">\n",
       "  <thead>\n",
       "    <tr style=\"text-align: right;\">\n",
       "      <th></th>\n",
       "      <th>OBJECTID</th>\n",
       "      <th>GeonamesId</th>\n",
       "      <th>Name</th>\n",
       "      <th>ModificationDate</th>\n",
       "      <th>GlobalID</th>\n",
       "      <th>CreationDate</th>\n",
       "      <th>Creator</th>\n",
       "      <th>EditDate</th>\n",
       "      <th>Editor</th>\n",
       "      <th>CountryCode</th>\n",
       "      <th>x</th>\n",
       "      <th>y</th>\n",
       "    </tr>\n",
       "  </thead>\n",
       "  <tbody>\n",
       "    <tr>\n",
       "      <th>0</th>\n",
       "      <td>2328</td>\n",
       "      <td>1821095</td>\n",
       "      <td>Nanhua Jiao</td>\n",
       "      <td>3/25/2018 12:00:00 AM</td>\n",
       "      <td>1fdd7ac5-c034-4edc-b81d-5c307c0c1c1e</td>\n",
       "      <td>3/26/2018 6:00:02 AM</td>\n",
       "      <td>NaN</td>\n",
       "      <td>3/26/2018 6:00:02 AM</td>\n",
       "      <td>NaN</td>\n",
       "      <td>CN</td>\n",
       "      <td>114.18415</td>\n",
       "      <td>8.71587</td>\n",
       "    </tr>\n",
       "    <tr>\n",
       "      <th>1</th>\n",
       "      <td>2329</td>\n",
       "      <td>1821242</td>\n",
       "      <td>Banyue Jiao</td>\n",
       "      <td>3/25/2018 12:00:00 AM</td>\n",
       "      <td>292c65ee-d2b9-4c8a-a15a-c260f7ff0551</td>\n",
       "      <td>3/26/2018 6:00:02 AM</td>\n",
       "      <td>NaN</td>\n",
       "      <td>3/26/2018 6:00:02 AM</td>\n",
       "      <td>NaN</td>\n",
       "      <td>CN</td>\n",
       "      <td>116.28664</td>\n",
       "      <td>8.91340</td>\n",
       "    </tr>\n",
       "    <tr>\n",
       "      <th>2</th>\n",
       "      <td>2330</td>\n",
       "      <td>11055130</td>\n",
       "      <td>Holý vrch [Břasy - Vranovice]</td>\n",
       "      <td>3/25/2018 12:00:00 AM</td>\n",
       "      <td>1f46e4a9-77b4-40b2-89bf-1a846c8a838b</td>\n",
       "      <td>3/26/2018 6:00:02 AM</td>\n",
       "      <td>NaN</td>\n",
       "      <td>3/26/2018 6:00:02 AM</td>\n",
       "      <td>NaN</td>\n",
       "      <td>CZ</td>\n",
       "      <td>13.54238</td>\n",
       "      <td>49.85081</td>\n",
       "    </tr>\n",
       "    <tr>\n",
       "      <th>3</th>\n",
       "      <td>2331</td>\n",
       "      <td>11055135</td>\n",
       "      <td>Bechlov [Drahoňův Újezd]</td>\n",
       "      <td>3/25/2018 12:00:00 AM</td>\n",
       "      <td>f6f8680e-bdf0-412c-95b1-8dab7e11e8df</td>\n",
       "      <td>3/26/2018 6:00:02 AM</td>\n",
       "      <td>NaN</td>\n",
       "      <td>3/26/2018 6:00:02 AM</td>\n",
       "      <td>NaN</td>\n",
       "      <td>CZ</td>\n",
       "      <td>13.68107</td>\n",
       "      <td>49.85288</td>\n",
       "    </tr>\n",
       "    <tr>\n",
       "      <th>4</th>\n",
       "      <td>2332</td>\n",
       "      <td>11055151</td>\n",
       "      <td>Chlum [Plzeň - Doubravka]</td>\n",
       "      <td>3/25/2018 12:00:00 AM</td>\n",
       "      <td>ce2753c9-7968-451a-9b3f-ff4fb41cac66</td>\n",
       "      <td>3/26/2018 6:00:02 AM</td>\n",
       "      <td>NaN</td>\n",
       "      <td>3/26/2018 6:00:02 AM</td>\n",
       "      <td>NaN</td>\n",
       "      <td>CZ</td>\n",
       "      <td>13.43008</td>\n",
       "      <td>49.76755</td>\n",
       "    </tr>\n",
       "  </tbody>\n",
       "</table>\n",
       "</div>"
      ],
      "text/plain": [
       "   OBJECTID  GeonamesId                           Name       ModificationDate  \\\n",
       "0      2328     1821095                    Nanhua Jiao  3/25/2018 12:00:00 AM   \n",
       "1      2329     1821242                    Banyue Jiao  3/25/2018 12:00:00 AM   \n",
       "2      2330    11055130  Holý vrch [Břasy - Vranovice]  3/25/2018 12:00:00 AM   \n",
       "3      2331    11055135       Bechlov [Drahoňův Újezd]  3/25/2018 12:00:00 AM   \n",
       "4      2332    11055151      Chlum [Plzeň - Doubravka]  3/25/2018 12:00:00 AM   \n",
       "\n",
       "                               GlobalID          CreationDate  Creator  \\\n",
       "0  1fdd7ac5-c034-4edc-b81d-5c307c0c1c1e  3/26/2018 6:00:02 AM      NaN   \n",
       "1  292c65ee-d2b9-4c8a-a15a-c260f7ff0551  3/26/2018 6:00:02 AM      NaN   \n",
       "2  1f46e4a9-77b4-40b2-89bf-1a846c8a838b  3/26/2018 6:00:02 AM      NaN   \n",
       "3  f6f8680e-bdf0-412c-95b1-8dab7e11e8df  3/26/2018 6:00:02 AM      NaN   \n",
       "4  ce2753c9-7968-451a-9b3f-ff4fb41cac66  3/26/2018 6:00:02 AM      NaN   \n",
       "\n",
       "               EditDate  Editor CountryCode          x         y  \n",
       "0  3/26/2018 6:00:02 AM     NaN          CN  114.18415   8.71587  \n",
       "1  3/26/2018 6:00:02 AM     NaN          CN  116.28664   8.91340  \n",
       "2  3/26/2018 6:00:02 AM     NaN          CZ   13.54238  49.85081  \n",
       "3  3/26/2018 6:00:02 AM     NaN          CZ   13.68107  49.85288  \n",
       "4  3/26/2018 6:00:02 AM     NaN          CZ   13.43008  49.76755  "
      ]
     },
     "execution_count": 20,
     "metadata": {},
     "output_type": "execute_result"
    }
   ],
   "source": [
    "modifications = pd.read_csv('D:/Geonames/geonames_0.csv', delimiter=',', low_memory=False)\n",
    "modifications.head()"
   ]
  },
  {
   "cell_type": "markdown",
   "metadata": {},
   "source": [
    "## Create a simple histogram using the modification date"
   ]
  },
  {
   "cell_type": "code",
   "execution_count": 22,
   "metadata": {},
   "outputs": [
    {
     "data": {
      "text/plain": [
       "<matplotlib.axes._subplots.AxesSubplot at 0x16b408b43c8>"
      ]
     },
     "execution_count": 22,
     "metadata": {},
     "output_type": "execute_result"
    },
    {
     "data": {
      "image/png": "[encoded data removed]",
      "text/plain": [
       "<matplotlib.figure.Figure at 0x16b44ccf668>"
      ]
     },
     "metadata": {},
     "output_type": "display_data"
    }
   ],
   "source": [
    "dates = pd.to_datetime(modifications['ModificationDate'])\n",
    "plt.rcParams['figure.figsize'] = (30, 10)\n",
    "dates.hist()"
   ]
  },
  {
   "cell_type": "code",
   "execution_count": null,
   "metadata": {},
   "outputs": [],
   "source": []
  }
 ],
 "metadata": {
  "kernelspec": {
   "display_name": "Python 3",
   "language": "python",
   "name": "python3"
  },
  "language_info": {
   "codemirror_mode": {
    "name": "ipython",
    "version": 3
   },
   "file_extension": ".py",
   "mimetype": "text/x-python",
   "name": "python",
   "nbconvert_exporter": "python",
   "pygments_lexer": "ipython3",
   "version": "3.6.4"
  }
 },
 "nbformat": 4,
 "nbformat_minor": 2
}
