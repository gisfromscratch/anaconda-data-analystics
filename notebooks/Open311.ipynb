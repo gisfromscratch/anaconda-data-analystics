{
 "cells": [
  {
   "cell_type": "markdown",
   "metadata": {},
   "source": [
    "##### Access open data geo reports from the city of Bonn\n",
    "http://three.codeforamerica.org/"
   ]
  },
  {
   "cell_type": "code",
   "execution_count": 1,
   "metadata": {},
   "outputs": [],
   "source": [
    "from three import Three\n",
    "\n",
    "class BonnGeoReportServices(Three):\n",
    "    def __init__(self):\n",
    "        super(BonnGeoReportServices, self).__init__()\n",
    "        self.endpoint = \"http://anliegen.bonn.de/georeport/v2/\"\n",
    "        self.format = \"json\"\n",
    "        self.jurisdiction = \"anliegen.bonn.de\""
   ]
  },
  {
   "cell_type": "code",
   "execution_count": 2,
   "metadata": {},
   "outputs": [],
   "source": [
    "geoReportServices = BonnGeoReportServices()"
   ]
  },
  {
   "cell_type": "markdown",
   "metadata": {},
   "source": [
    "##### Query all requests using the extended page parameter\n",
    "The service return None for the service_request_id if no more records available."
   ]
  },
  {
   "cell_type": "code",
   "execution_count": 5,
   "metadata": {},
   "outputs": [],
   "source": [
    "import pandas as pd\n",
    "\n",
    "pageNumber = 1\n",
    "userRequests = []\n",
    "while True:\n",
    "    results = geoReportServices.requests(page=pageNumber)\n",
    "    pageNumber = pageNumber + 1\n",
    "    requests = list(map(lambda request: { 'id':request.get('service_request_id'), 'code':request.get('service_code'), 'service':request.get('service_name'), 'lat':request.get('lat'), 'lon':request.get('long'), 'address':request.get('address'), 'date':request.get('requested_datetime'), 'text':request.get('description')}, results))\n",
    "    if (requests[-1].get('id')):\n",
    "        userRequests.extend(requests)\n",
    "    else:\n",
    "        requests = [request for request in requests if request.get('id')]\n",
    "        userRequests.extend(requests)\n",
    "        break\n",
    "\n",
    "userRequestsDataFrame = pd.DataFrame.from_dict(userRequests)\n",
    "columns = ['code', 'service', 'text']\n",
    "userRequestsDataFrame.to_csv('D:/OpenData.Bonn/open311-ml-requests.tsv', columns=columns, sep='\\t', index=False)"
   ]
  },
  {
   "cell_type": "code",
   "execution_count": null,
   "metadata": {},
   "outputs": [],
   "source": []
  }
 ],
 "metadata": {
  "kernelspec": {
   "display_name": "Python 3",
   "language": "python",
   "name": "python3"
  },
  "language_info": {
   "codemirror_mode": {
    "name": "ipython",
    "version": 3
   },
   "file_extension": ".py",
   "mimetype": "text/x-python",
   "name": "python",
   "nbconvert_exporter": "python",
   "pygments_lexer": "ipython3",
   "version": "3.6.4"
  }
 },
 "nbformat": 4,
 "nbformat_minor": 2
}
