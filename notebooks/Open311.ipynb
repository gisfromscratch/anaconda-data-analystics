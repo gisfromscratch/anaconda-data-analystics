{
 "cells": [
  {
   "cell_type": "markdown",
   "metadata": {},
   "source": [
    "##### Access open data geo reports from the city of Bonn\n",
    "http://three.codeforamerica.org/"
   ]
  },
  {
   "cell_type": "code",
   "execution_count": 2,
   "metadata": {},
   "outputs": [],
   "source": [
    "from three import Three\n",
    "\n",
    "class BonnGeoReportServices(Three):\n",
    "    def __init__(self):\n",
    "        super(BonnGeoReportServices, self).__init__()\n",
    "        self.endpoint = \"http://anliegen.bonn.de/georeport/v2/\"\n",
    "        self.format = \"json\"\n",
    "        self.jurisdiction = \"anliegen.bonn.de\""
   ]
  },
  {
   "cell_type": "code",
   "execution_count": 3,
   "metadata": {},
   "outputs": [],
   "source": [
    "geoReportServices = BonnGeoReportServices()"
   ]
  },
  {
   "cell_type": "markdown",
   "metadata": {},
   "source": [
    "##### Query all requests using the extended page parameter\n",
    "The service return None for the service_request_id if no more records available."
   ]
  },
  {
   "cell_type": "code",
   "execution_count": 23,
   "metadata": {},
   "outputs": [
    {
     "data": {
      "text/html": [
       "<div>\n",
       "<style scoped>\n",
       "    .dataframe tbody tr th:only-of-type {\n",
       "        vertical-align: middle;\n",
       "    }\n",
       "\n",
       "    .dataframe tbody tr th {\n",
       "        vertical-align: top;\n",
       "    }\n",
       "\n",
       "    .dataframe thead th {\n",
       "        text-align: right;\n",
       "    }\n",
       "</style>\n",
       "<table border=\"1\" class=\"dataframe\">\n",
       "  <thead>\n",
       "    <tr style=\"text-align: right;\">\n",
       "      <th></th>\n",
       "      <th>address</th>\n",
       "      <th>date</th>\n",
       "      <th>id</th>\n",
       "      <th>lat</th>\n",
       "      <th>lon</th>\n",
       "      <th>text</th>\n",
       "    </tr>\n",
       "  </thead>\n",
       "  <tbody>\n",
       "    <tr>\n",
       "      <th>11240</th>\n",
       "      <td>Drususstraße 35, 53111 Bonn</td>\n",
       "      <td>2015-06-15T11:39:20+02:00</td>\n",
       "      <td>A-4528</td>\n",
       "      <td>50.746218</td>\n",
       "      <td>7.097962</td>\n",
       "      <td>2 Laternen vor Schulparkplatz brennen nicht.\\r...</td>\n",
       "    </tr>\n",
       "    <tr>\n",
       "      <th>11241</th>\n",
       "      <td>In der Maar, 53175 Bonn</td>\n",
       "      <td>2015-06-15T11:01:28+02:00</td>\n",
       "      <td>A-4527</td>\n",
       "      <td>50.695420</td>\n",
       "      <td>7.129440</td>\n",
       "      <td>Gully verstopft zwischen Hausnummer 3 und 5, I...</td>\n",
       "    </tr>\n",
       "    <tr>\n",
       "      <th>11242</th>\n",
       "      <td>Professor-Neu-Allee 1, 53225 Bonn</td>\n",
       "      <td>2015-06-15T10:44:19+02:00</td>\n",
       "      <td>A-4526</td>\n",
       "      <td>50.739130</td>\n",
       "      <td>7.115120</td>\n",
       "      <td>Div Styropor Platten und weiterer Bauschutt, D...</td>\n",
       "    </tr>\n",
       "    <tr>\n",
       "      <th>11243</th>\n",
       "      <td>In der Wehrhecke 28, 53125 Bonn</td>\n",
       "      <td>2015-06-15T10:39:19+02:00</td>\n",
       "      <td>A-4525</td>\n",
       "      <td>50.675780</td>\n",
       "      <td>7.069880</td>\n",
       "      <td>Die  Gullys  in der Srasse In der Wehrhecke st...</td>\n",
       "    </tr>\n",
       "    <tr>\n",
       "      <th>11244</th>\n",
       "      <td>Von-Sandt-Ufer 1, 53173 Bonn</td>\n",
       "      <td>2015-06-15T09:46:41+02:00</td>\n",
       "      <td>A-4524</td>\n",
       "      <td>50.689865</td>\n",
       "      <td>7.171991</td>\n",
       "      <td>Zum wiederholten Male an gleicher Stelle wie v...</td>\n",
       "    </tr>\n",
       "  </tbody>\n",
       "</table>\n",
       "</div>"
      ],
      "text/plain": [
       "                                 address                       date      id  \\\n",
       "11240        Drususstraße 35, 53111 Bonn  2015-06-15T11:39:20+02:00  A-4528   \n",
       "11241            In der Maar, 53175 Bonn  2015-06-15T11:01:28+02:00  A-4527   \n",
       "11242  Professor-Neu-Allee 1, 53225 Bonn  2015-06-15T10:44:19+02:00  A-4526   \n",
       "11243    In der Wehrhecke 28, 53125 Bonn  2015-06-15T10:39:19+02:00  A-4525   \n",
       "11244       Von-Sandt-Ufer 1, 53173 Bonn  2015-06-15T09:46:41+02:00  A-4524   \n",
       "\n",
       "             lat       lon                                               text  \n",
       "11240  50.746218  7.097962  2 Laternen vor Schulparkplatz brennen nicht.\\r...  \n",
       "11241  50.695420  7.129440  Gully verstopft zwischen Hausnummer 3 und 5, I...  \n",
       "11242  50.739130  7.115120  Div Styropor Platten und weiterer Bauschutt, D...  \n",
       "11243  50.675780  7.069880  Die  Gullys  in der Srasse In der Wehrhecke st...  \n",
       "11244  50.689865  7.171991  Zum wiederholten Male an gleicher Stelle wie v...  "
      ]
     },
     "execution_count": 23,
     "metadata": {},
     "output_type": "execute_result"
    }
   ],
   "source": [
    "import pandas as pd\n",
    "\n",
    "pageNumber = 1\n",
    "userRequests = []\n",
    "while True:\n",
    "    results = geoReportServices.requests(page=pageNumber)\n",
    "    pageNumber = pageNumber + 1\n",
    "    requests = list(map(lambda request: { 'id':request.get('service_request_id'), 'lat':request.get('lat'), 'lon':request.get('long'), 'address':request.get('address'), 'date':request.get('requested_datetime'), 'text':request.get('description')}, results))\n",
    "    if (requests[-1].get('id')):\n",
    "        userRequests.extend(requests)\n",
    "    else:\n",
    "        requests = [request for request in requests if request.get('id')]\n",
    "        userRequests.extend(requests)\n",
    "        break\n",
    "\n",
    "userRequestsDataFrame = pd.DataFrame.from_dict(userRequests)\n",
    "userRequestsDataFrame.tail()"
   ]
  },
  {
   "cell_type": "code",
   "execution_count": null,
   "metadata": {},
   "outputs": [],
   "source": []
  }
 ],
 "metadata": {
  "kernelspec": {
   "display_name": "Python 3",
   "language": "python",
   "name": "python3"
  },
  "language_info": {
   "codemirror_mode": {
    "name": "ipython",
    "version": 3
   },
   "file_extension": ".py",
   "mimetype": "text/x-python",
   "name": "python",
   "nbconvert_exporter": "python",
   "pygments_lexer": "ipython3",
   "version": "3.6.4"
  }
 },
 "nbformat": 4,
 "nbformat_minor": 2
}
