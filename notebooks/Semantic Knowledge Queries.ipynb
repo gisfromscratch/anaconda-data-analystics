{
 "cells": [
  {
   "cell_type": "code",
   "execution_count": 39,
   "metadata": {},
   "outputs": [],
   "source": [
    "from overpy import Overpass as OsmClient\n",
    "from wikidata.client import Client as WikiClient"
   ]
  },
  {
   "cell_type": "markdown",
   "metadata": {},
   "source": [
    "# Search for the city 'Dessau' using the wikidata URI"
   ]
  },
  {
   "cell_type": "code",
   "execution_count": 3,
   "metadata": {},
   "outputs": [],
   "source": [
    "wiki_client = WikiClient()"
   ]
  },
  {
   "cell_type": "code",
   "execution_count": 4,
   "metadata": {},
   "outputs": [],
   "source": [
    "dessau = wiki_client.get('Q487070' , load=True)"
   ]
  },
  {
   "cell_type": "code",
   "execution_count": 6,
   "metadata": {},
   "outputs": [
    {
     "data": {
      "text/plain": [
       "m'town, district of Dessau-Roßlau'"
      ]
     },
     "execution_count": 6,
     "metadata": {},
     "output_type": "execute_result"
    }
   ],
   "source": [
    "dessau.description"
   ]
  },
  {
   "cell_type": "code",
   "execution_count": 36,
   "metadata": {},
   "outputs": [
    {
     "name": "stdout",
     "output_type": "stream",
     "text": [
      "Germany:\n",
      "  Great Russian Encyclopedia Online ID:2354371\n",
      "  New York Times topic ID:destination/germany\n",
      "  GND ID:4011882-4\n",
      "  Category:Germans:\n",
      "  112:\n",
      "  Schuko:\n",
      "  licence plate code:D\n",
      "  hashtag:Deutschland\n",
      "  BabelNet ID:00026684n\n",
      "  Bashkir encyclopedia (Russian version) ID:9912\n",
      "  Federal Chancellor of Germany:\n",
      "  Michael the Archangel:\n",
      "  Curlie ID:Regional/Europe/Germany/\n",
      "  MusicBrainz area ID:85752fda-13c4-31a3-bee5-0e5cb1f51dad\n",
      "  German Unity Day:\n",
      "  UIC alphabetical country code:D\n",
      "  Comic Vine ID:4020-55777\n",
      "  INSEE countries and foreign territories code:99109\n",
      "  United States of America:\n",
      "  Commons gallery:Deutschland\n",
      "  VIAF ID:127773629\n",
      "  history of Germany:\n",
      "  Baltic Sea:\n",
      "  Berlin:\n",
      "  subreddit:deutschland\n",
      "  Biblioteca Nacional de España ID:XX450924\n",
      "  OpenStreetMap relation ID:51477\n",
      "  C-SPAN organization ID:12628\n",
      "  mobile country code:262\n",
      "  maritime identification digits:211\n",
      "  NKCR AUT ID:ge135889\n",
      "  ASC Leiden Thesaurus ID:294913572\n",
      "  Category:Burials in Germany:\n",
      "  geoshape:Data:Germany.map\n",
      "  Le Monde diplomatique subject ID:pays/allemagne\n",
      "  Marine Regions Geographic ID:2101\n",
      "  World Trade Organization:\n",
      "  right:\n",
      "  Historical Gazetteer (GOV) ID:object_149273\n",
      "  UTC+01:00:\n",
      "  Category:Deaths in Germany:\n",
      "  YSO ID:105087\n",
      "  president of Germany:\n",
      "  Commons category:Germany\n",
      "  Denmark:\n",
      "  Bashkir encyclopedia (Bashkir version) ID:3451\n",
      "  U.S. National Archives Identifier:10044480\n",
      "  EMLO location ID:688c9343-7208-41cb-8997-a4c2d3a429e6\n",
      "  NALT ID:15494\n",
      "  Wall Street Journal topic ID:subject/G/germany/2767\n",
      "  Treccani ID:germania\n",
      "  IPA transcription:ˈtʏsklɑn\n",
      "  ISO 3166-1 numeric code:276\n",
      "  country calling code:+49\n",
      "  STW Thesaurus for Economics ID:18012-3\n",
      "  Statoids ID:ude\n",
      "  Germania:\n",
      "  flag of Germany:\n",
      "  FIPS 10-4 (countries and regions):GM\n",
      "  Dagens Nyheter topic ID:tyskland\n",
      "  ISNI:0000 0001 2285 4945\n",
      "  Academy Awards Database nominee ID:5497\n",
      "  NE.se ID:tyskland\n",
      "  WikiProject Germany:\n",
      "  Getty Thesaurus of Geographic Names ID:7000084\n",
      "  Portal:Germany:\n",
      "  outline of Germany:\n",
      "  National Diet Library ID:00561571\n",
      "  euro:\n",
      "  GeoNames ID:2921044\n",
      "  Unicode character:🇩🇪\n",
      "  UNESCO Thesaurus ID:concept904\n",
      "  Germans:\n",
      "  Treccani's Enciclopedia Italiana ID:germania\n",
      "  The Encyclopedia of Science Fiction ID:germany\n",
      "  geography of Germany:\n",
      "  ISO 3166-1 alpha-3 code:DEU\n",
      "  Quora topic ID:Germany\n",
      "  RERO ID:02-A000050560\n",
      "  Stack Exchange tag:https://travel.stackexchange.com/tags/germany\n",
      "  MeSH descriptor ID:D005858\n",
      "  Almanya:\n",
      "  Guardian topic ID:world/germany\n",
      "  federal parliamentary republic:\n",
      "  Basic Law for the Federal Republic of Germany:\n",
      "  ITU/ISO/IEC object identifier:2.16.276\n",
      "  Bundesrat:\n",
      "  trunk prefix:0\n",
      "  NUTS code:DE\n",
      "  Freebase ID:/m/0345h\n",
      "  German:\n",
      "  West Germany:\n",
      "  Europe:\n",
      "  coat of arms of Germany:\n"
     ]
    },
    {
     "ename": "KeyError",
     "evalue": "<wikidata.entity.Entity P3271>",
     "output_type": "error",
     "traceback": [
      "\u001b[1;31m---------------------------------------------------------------------------\u001b[0m",
      "\u001b[1;31mKeyError\u001b[0m                                  Traceback (most recent call last)",
      "\u001b[1;32m<ipython-input-36-61864de6188e>\u001b[0m in \u001b[0;36m<module>\u001b[1;34m()\u001b[0m\n\u001b[0;32m     17\u001b[0m             \u001b[0mprint_properties\u001b[0m\u001b[1;33m(\u001b[0m\u001b[0mentity_property\u001b[0m\u001b[1;33m,\u001b[0m \u001b[0mmax_depth\u001b[0m\u001b[1;33m,\u001b[0m \u001b[0m_depth\u001b[0m\u001b[1;33m+\u001b[0m\u001b[1;36m1\u001b[0m\u001b[1;33m)\u001b[0m\u001b[1;33m\u001b[0m\u001b[0m\n\u001b[0;32m     18\u001b[0m \u001b[1;33m\u001b[0m\u001b[0m\n\u001b[1;32m---> 19\u001b[1;33m \u001b[0mprint_properties\u001b[0m\u001b[1;33m(\u001b[0m\u001b[0mdessau\u001b[0m\u001b[1;33m,\u001b[0m \u001b[1;36m2\u001b[0m\u001b[1;33m)\u001b[0m\u001b[1;33m\u001b[0m\u001b[0m\n\u001b[0m\u001b[0;32m     20\u001b[0m \u001b[1;31m#dessau.attributes\u001b[0m\u001b[1;33m\u001b[0m\u001b[1;33m\u001b[0m\u001b[0m\n",
      "\u001b[1;32m<ipython-input-36-61864de6188e>\u001b[0m in \u001b[0;36mprint_properties\u001b[1;34m(entity, max_depth, _depth)\u001b[0m\n\u001b[0;32m     15\u001b[0m                 \u001b[0mprint\u001b[0m\u001b[1;33m(\u001b[0m\u001b[1;34m'  '\u001b[0m\u001b[1;33m,\u001b[0m \u001b[0mend\u001b[0m\u001b[1;33m=\u001b[0m\u001b[1;34m''\u001b[0m\u001b[1;33m)\u001b[0m\u001b[1;33m\u001b[0m\u001b[0m\n\u001b[0;32m     16\u001b[0m             \u001b[0mprint\u001b[0m\u001b[1;33m(\u001b[0m\u001b[1;34m'{0}:'\u001b[0m\u001b[1;33m.\u001b[0m\u001b[0mformat\u001b[0m\u001b[1;33m(\u001b[0m\u001b[0mentity_property\u001b[0m\u001b[1;33m.\u001b[0m\u001b[0mlabel\u001b[0m\u001b[1;33m)\u001b[0m\u001b[1;33m)\u001b[0m\u001b[1;33m\u001b[0m\u001b[0m\n\u001b[1;32m---> 17\u001b[1;33m             \u001b[0mprint_properties\u001b[0m\u001b[1;33m(\u001b[0m\u001b[0mentity_property\u001b[0m\u001b[1;33m,\u001b[0m \u001b[0mmax_depth\u001b[0m\u001b[1;33m,\u001b[0m \u001b[0m_depth\u001b[0m\u001b[1;33m+\u001b[0m\u001b[1;36m1\u001b[0m\u001b[1;33m)\u001b[0m\u001b[1;33m\u001b[0m\u001b[0m\n\u001b[0m\u001b[0;32m     18\u001b[0m \u001b[1;33m\u001b[0m\u001b[0m\n\u001b[0;32m     19\u001b[0m \u001b[0mprint_properties\u001b[0m\u001b[1;33m(\u001b[0m\u001b[0mdessau\u001b[0m\u001b[1;33m,\u001b[0m \u001b[1;36m2\u001b[0m\u001b[1;33m)\u001b[0m\u001b[1;33m\u001b[0m\u001b[0m\n",
      "\u001b[1;32m<ipython-input-36-61864de6188e>\u001b[0m in \u001b[0;36mprint_properties\u001b[1;34m(entity, max_depth, _depth)\u001b[0m\n\u001b[0;32m      6\u001b[0m \u001b[1;33m\u001b[0m\u001b[0m\n\u001b[0;32m      7\u001b[0m     \u001b[1;32mfor\u001b[0m \u001b[0mkey\u001b[0m \u001b[1;32min\u001b[0m \u001b[0mentity\u001b[0m\u001b[1;33m.\u001b[0m\u001b[0mkeys\u001b[0m\u001b[1;33m(\u001b[0m\u001b[1;33m)\u001b[0m\u001b[1;33m:\u001b[0m\u001b[1;33m\u001b[0m\u001b[0m\n\u001b[1;32m----> 8\u001b[1;33m         \u001b[0mentity_property\u001b[0m \u001b[1;33m=\u001b[0m \u001b[0mentity\u001b[0m\u001b[1;33m[\u001b[0m\u001b[0mkey\u001b[0m\u001b[1;33m]\u001b[0m\u001b[1;33m\u001b[0m\u001b[0m\n\u001b[0m\u001b[0;32m      9\u001b[0m         \u001b[1;32mif\u001b[0m \u001b[0mstr\u001b[0m \u001b[1;33m==\u001b[0m \u001b[0mtype\u001b[0m\u001b[1;33m(\u001b[0m\u001b[0mentity_property\u001b[0m\u001b[1;33m)\u001b[0m\u001b[1;33m:\u001b[0m\u001b[1;33m\u001b[0m\u001b[0m\n\u001b[0;32m     10\u001b[0m             \u001b[1;32mfor\u001b[0m \u001b[0mtab_index\u001b[0m \u001b[1;32min\u001b[0m \u001b[0mrange\u001b[0m\u001b[1;33m(\u001b[0m\u001b[1;36m1\u001b[0m\u001b[1;33m,\u001b[0m \u001b[0m_depth\u001b[0m\u001b[1;33m)\u001b[0m\u001b[1;33m:\u001b[0m\u001b[1;33m\u001b[0m\u001b[0m\n",
      "\u001b[1;32m~\\AppData\\Roaming\\Python\\Python36\\site-packages\\wikidata\\entity.py\u001b[0m in \u001b[0;36m__getitem__\u001b[1;34m(self, key)\u001b[0m\n\u001b[0;32m    180\u001b[0m         \u001b[1;32mif\u001b[0m \u001b[0mresult\u001b[0m\u001b[1;33m:\u001b[0m\u001b[1;33m\u001b[0m\u001b[0m\n\u001b[0;32m    181\u001b[0m             \u001b[1;32mreturn\u001b[0m \u001b[0mresult\u001b[0m\u001b[1;33m[\u001b[0m\u001b[1;36m0\u001b[0m\u001b[1;33m]\u001b[0m\u001b[1;33m\u001b[0m\u001b[0m\n\u001b[1;32m--> 182\u001b[1;33m         \u001b[1;32mraise\u001b[0m \u001b[0mKeyError\u001b[0m\u001b[1;33m(\u001b[0m\u001b[0mkey\u001b[0m\u001b[1;33m)\u001b[0m\u001b[1;33m\u001b[0m\u001b[0m\n\u001b[0m\u001b[0;32m    183\u001b[0m \u001b[1;33m\u001b[0m\u001b[0m\n\u001b[0;32m    184\u001b[0m     \u001b[1;32mdef\u001b[0m \u001b[0mgetlist\u001b[0m\u001b[1;33m(\u001b[0m\u001b[0mself\u001b[0m\u001b[1;33m,\u001b[0m \u001b[0mkey\u001b[0m\u001b[1;33m:\u001b[0m \u001b[1;34m'Entity'\u001b[0m\u001b[1;33m)\u001b[0m \u001b[1;33m->\u001b[0m \u001b[0mSequence\u001b[0m\u001b[1;33m[\u001b[0m\u001b[0mobject\u001b[0m\u001b[1;33m]\u001b[0m\u001b[1;33m:\u001b[0m\u001b[1;33m\u001b[0m\u001b[0m\n",
      "\u001b[1;31mKeyError\u001b[0m: <wikidata.entity.Entity P3271>"
     ]
    }
   ],
   "source": [
    "def print_properties(entity, max_depth=1, _depth=1):\n",
    "    if _depth < 1:\n",
    "        raise ValueError('Minimum depth is always 1!')\n",
    "    if max_depth < _depth:\n",
    "        return\n",
    "        \n",
    "    for key in entity.keys():\n",
    "        entity_property = entity[key]\n",
    "        if str == type(entity_property):\n",
    "            for tab_index in range(1, _depth):\n",
    "                print('  ', end='')\n",
    "            print('{0}:{1}'.format(key.label, entity_property))\n",
    "        elif wikidata.entity.Entity is type(entity_property):\n",
    "            for tab_index in range(1, _depth):\n",
    "                print('  ', end='')\n",
    "            print('{0}:'.format(entity_property.label))\n",
    "            print_properties(entity_property, max_depth, _depth+1)  \n",
    "\n",
    "print_properties(dessau, 2)\n",
    "#dessau.attributes"
   ]
  },
  {
   "cell_type": "markdown",
   "metadata": {},
   "source": [
    "# Search for anything having a wikidata tag using OSM"
   ]
  },
  {
   "cell_type": "code",
   "execution_count": 40,
   "metadata": {},
   "outputs": [],
   "source": [
    "osm_client = OsmClient()"
   ]
  },
  {
   "cell_type": "code",
   "execution_count": 41,
   "metadata": {},
   "outputs": [],
   "source": [
    "query_clause = 'node[\\'wikidata\\'](51.822788386139,12.232568264008,51.828663466249,12.24388718605);out;'\n",
    "query_result = osm_client.query(query_clause)"
   ]
  },
  {
   "cell_type": "code",
   "execution_count": 55,
   "metadata": {},
   "outputs": [
    {
     "name": "stdout",
     "output_type": "stream",
     "text": [
      "lat:51.8279392, lon:12.2374617\n",
      "historic:tomb\n",
      "image:https://commons.wikimedia.org/wiki/File:Nikolai_Abramowitsch_Putjatin,_Neuer_Begr%C3%A4bnisplatz_%28Dessau%29.JPG\n",
      "name:Mausoleum der Familie des Fürsten Putjatin\n",
      "tomb:mausoleum\n",
      "wikidata:Q1980107\n",
      "wikipedia:de:Neuer Begräbnisplatz (Dessau)\n"
     ]
    }
   ],
   "source": [
    "def print_osm(nodes):\n",
    "    for osm_node in nodes:\n",
    "        print('lat:{0}, lon:{1}'.format(osm_node.lat, osm_node.lon))\n",
    "        for osm_tag in osm_node.tags:\n",
    "            print('{0}:{1}'.format(osm_tag, osm_node.tags[osm_tag]))\n",
    "    \n",
    "print_osm(query_result.nodes)"
   ]
  },
  {
   "cell_type": "code",
   "execution_count": null,
   "metadata": {},
   "outputs": [],
   "source": []
  }
 ],
 "metadata": {
  "kernelspec": {
   "display_name": "Python 3",
   "language": "python",
   "name": "python3"
  },
  "language_info": {
   "codemirror_mode": {
    "name": "ipython",
    "version": 3
   },
   "file_extension": ".py",
   "mimetype": "text/x-python",
   "name": "python",
   "nbconvert_exporter": "python",
   "pygments_lexer": "ipython3",
   "version": "3.6.4"
  }
 },
 "nbformat": 4,
 "nbformat_minor": 2
}
