{
 "cells": [
  {
   "cell_type": "markdown",
   "metadata": {},
   "source": [
    "# Analyse the traffic from the city of bonn"
   ]
  },
  {
   "cell_type": "code",
   "execution_count": 1,
   "metadata": {},
   "outputs": [],
   "source": [
    "import pandas as pd"
   ]
  },
  {
   "cell_type": "code",
   "execution_count": 2,
   "metadata": {},
   "outputs": [],
   "source": [
    "raw_traffic = pd.read_csv(\"D:/OpenData.Bonn/traffic/traffic_bonn.csv\", header=0, names=[\"roadsegment_id\", \"speed\", \"date\", \"traffic_state\"], sep=\",\")"
   ]
  },
  {
   "cell_type": "code",
   "execution_count": 66,
   "metadata": {},
   "outputs": [],
   "source": [
    "def to_traffic_data(raw_traffic):\n",
    "    raw_times = pd.to_datetime(raw_traffic[\"date\"]).dt.time\n",
    "    raw_seconds = raw_times.apply(lambda time: 3600*time.hour + 60*time.minute + time.second)\n",
    "    traffic_data = pd.DataFrame()\n",
    "    traffic_data[\"roadsegment_id\"] = raw_traffic[\"roadsegment_id\"]\n",
    "    traffic_data[\"speed\"] = raw_traffic[\"speed\"]\n",
    "    traffic_data[\"seconds_of_day\"] = raw_seconds\n",
    "    traffic_data[\"traffic_category\"] = raw_traffic[\"traffic_state\"].apply(lambda traffic_state: 1 if \"normales Verkehrsaufkommen\" == traffic_state else (2 if \"Staugefahr\" == traffic_state else 0))\n",
    "    return traffic_data\n",
    "    "
   ]
  },
  {
   "cell_type": "code",
   "execution_count": 68,
   "metadata": {},
   "outputs": [
    {
     "data": {
      "text/html": [
       "<div>\n",
       "<style scoped>\n",
       "    .dataframe tbody tr th:only-of-type {\n",
       "        vertical-align: middle;\n",
       "    }\n",
       "\n",
       "    .dataframe tbody tr th {\n",
       "        vertical-align: top;\n",
       "    }\n",
       "\n",
       "    .dataframe thead th {\n",
       "        text-align: right;\n",
       "    }\n",
       "</style>\n",
       "<table border=\"1\" class=\"dataframe\">\n",
       "  <thead>\n",
       "    <tr style=\"text-align: right;\">\n",
       "      <th></th>\n",
       "      <th>roadsegment_id</th>\n",
       "      <th>speed</th>\n",
       "      <th>seconds_of_day</th>\n",
       "      <th>traffic_category</th>\n",
       "    </tr>\n",
       "  </thead>\n",
       "  <tbody>\n",
       "    <tr>\n",
       "      <th>count</th>\n",
       "      <td>3.535405e+06</td>\n",
       "      <td>3.535405e+06</td>\n",
       "      <td>3.535405e+06</td>\n",
       "      <td>3.535405e+06</td>\n",
       "    </tr>\n",
       "    <tr>\n",
       "      <th>mean</th>\n",
       "      <td>6.494277e+01</td>\n",
       "      <td>4.142372e+01</td>\n",
       "      <td>4.187560e+04</td>\n",
       "      <td>8.844633e-01</td>\n",
       "    </tr>\n",
       "    <tr>\n",
       "      <th>std</th>\n",
       "      <td>4.092744e+01</td>\n",
       "      <td>2.529515e+01</td>\n",
       "      <td>2.601716e+04</td>\n",
       "      <td>3.377761e-01</td>\n",
       "    </tr>\n",
       "    <tr>\n",
       "      <th>min</th>\n",
       "      <td>3.000000e+00</td>\n",
       "      <td>0.000000e+00</td>\n",
       "      <td>0.000000e+00</td>\n",
       "      <td>0.000000e+00</td>\n",
       "    </tr>\n",
       "    <tr>\n",
       "      <th>25%</th>\n",
       "      <td>3.000000e+01</td>\n",
       "      <td>2.700000e+01</td>\n",
       "      <td>1.920000e+04</td>\n",
       "      <td>1.000000e+00</td>\n",
       "    </tr>\n",
       "    <tr>\n",
       "      <th>50%</th>\n",
       "      <td>5.600000e+01</td>\n",
       "      <td>3.900000e+01</td>\n",
       "      <td>3.900000e+04</td>\n",
       "      <td>1.000000e+00</td>\n",
       "    </tr>\n",
       "    <tr>\n",
       "      <th>75%</th>\n",
       "      <td>1.000000e+02</td>\n",
       "      <td>5.300000e+01</td>\n",
       "      <td>6.720000e+04</td>\n",
       "      <td>1.000000e+00</td>\n",
       "    </tr>\n",
       "    <tr>\n",
       "      <th>max</th>\n",
       "      <td>1.440000e+02</td>\n",
       "      <td>1.290000e+02</td>\n",
       "      <td>8.610000e+04</td>\n",
       "      <td>2.000000e+00</td>\n",
       "    </tr>\n",
       "  </tbody>\n",
       "</table>\n",
       "</div>"
      ],
      "text/plain": [
       "       roadsegment_id         speed  seconds_of_day  traffic_category\n",
       "count    3.535405e+06  3.535405e+06    3.535405e+06      3.535405e+06\n",
       "mean     6.494277e+01  4.142372e+01    4.187560e+04      8.844633e-01\n",
       "std      4.092744e+01  2.529515e+01    2.601716e+04      3.377761e-01\n",
       "min      3.000000e+00  0.000000e+00    0.000000e+00      0.000000e+00\n",
       "25%      3.000000e+01  2.700000e+01    1.920000e+04      1.000000e+00\n",
       "50%      5.600000e+01  3.900000e+01    3.900000e+04      1.000000e+00\n",
       "75%      1.000000e+02  5.300000e+01    6.720000e+04      1.000000e+00\n",
       "max      1.440000e+02  1.290000e+02    8.610000e+04      2.000000e+00"
      ]
     },
     "execution_count": 68,
     "metadata": {},
     "output_type": "execute_result"
    }
   ],
   "source": [
    "traffic_data = to_traffic_data(raw_traffic)\n",
    "traffic_data.describe()"
   ]
  },
  {
   "cell_type": "code",
   "execution_count": 46,
   "metadata": {},
   "outputs": [
    {
     "data": {
      "text/plain": [
       "86340"
      ]
     },
     "execution_count": 46,
     "metadata": {},
     "output_type": "execute_result"
    }
   ],
   "source": [
    "3600*23+60*59"
   ]
  },
  {
   "cell_type": "code",
   "execution_count": 50,
   "metadata": {},
   "outputs": [
    {
     "data": {
      "text/html": [
       "<div>\n",
       "<style scoped>\n",
       "    .dataframe tbody tr th:only-of-type {\n",
       "        vertical-align: middle;\n",
       "    }\n",
       "\n",
       "    .dataframe tbody tr th {\n",
       "        vertical-align: top;\n",
       "    }\n",
       "\n",
       "    .dataframe thead th {\n",
       "        text-align: right;\n",
       "    }\n",
       "</style>\n",
       "<table border=\"1\" class=\"dataframe\">\n",
       "  <thead>\n",
       "    <tr style=\"text-align: right;\">\n",
       "      <th></th>\n",
       "      <th>roadsegment_id</th>\n",
       "      <th>speed</th>\n",
       "      <th>seconds_of_day</th>\n",
       "    </tr>\n",
       "  </thead>\n",
       "  <tbody>\n",
       "    <tr>\n",
       "      <th>0</th>\n",
       "      <td>17</td>\n",
       "      <td>36</td>\n",
       "      <td>4800</td>\n",
       "    </tr>\n",
       "    <tr>\n",
       "      <th>1</th>\n",
       "      <td>14</td>\n",
       "      <td>33</td>\n",
       "      <td>4800</td>\n",
       "    </tr>\n",
       "    <tr>\n",
       "      <th>2</th>\n",
       "      <td>15</td>\n",
       "      <td>49</td>\n",
       "      <td>4800</td>\n",
       "    </tr>\n",
       "    <tr>\n",
       "      <th>3</th>\n",
       "      <td>18</td>\n",
       "      <td>29</td>\n",
       "      <td>4800</td>\n",
       "    </tr>\n",
       "    <tr>\n",
       "      <th>4</th>\n",
       "      <td>19</td>\n",
       "      <td>26</td>\n",
       "      <td>4800</td>\n",
       "    </tr>\n",
       "    <tr>\n",
       "      <th>...</th>\n",
       "      <td>...</td>\n",
       "      <td>...</td>\n",
       "      <td>...</td>\n",
       "    </tr>\n",
       "    <tr>\n",
       "      <th>3535400</th>\n",
       "      <td>46</td>\n",
       "      <td>40</td>\n",
       "      <td>63600</td>\n",
       "    </tr>\n",
       "    <tr>\n",
       "      <th>3535401</th>\n",
       "      <td>47</td>\n",
       "      <td>76</td>\n",
       "      <td>63600</td>\n",
       "    </tr>\n",
       "    <tr>\n",
       "      <th>3535402</th>\n",
       "      <td>48</td>\n",
       "      <td>78</td>\n",
       "      <td>63600</td>\n",
       "    </tr>\n",
       "    <tr>\n",
       "      <th>3535403</th>\n",
       "      <td>37</td>\n",
       "      <td>26</td>\n",
       "      <td>63600</td>\n",
       "    </tr>\n",
       "    <tr>\n",
       "      <th>3535404</th>\n",
       "      <td>35</td>\n",
       "      <td>51</td>\n",
       "      <td>63600</td>\n",
       "    </tr>\n",
       "  </tbody>\n",
       "</table>\n",
       "<p>3535405 rows × 3 columns</p>\n",
       "</div>"
      ],
      "text/plain": [
       "         roadsegment_id  speed  seconds_of_day\n",
       "0                    17     36            4800\n",
       "1                    14     33            4800\n",
       "2                    15     49            4800\n",
       "3                    18     29            4800\n",
       "4                    19     26            4800\n",
       "...                 ...    ...             ...\n",
       "3535400              46     40           63600\n",
       "3535401              47     76           63600\n",
       "3535402              48     78           63600\n",
       "3535403              37     26           63600\n",
       "3535404              35     51           63600\n",
       "\n",
       "[3535405 rows x 3 columns]"
      ]
     },
     "execution_count": 50,
     "metadata": {},
     "output_type": "execute_result"
    }
   ],
   "source": [
    "traffic_data"
   ]
  },
  {
   "cell_type": "code",
   "execution_count": 52,
   "metadata": {},
   "outputs": [
    {
     "data": {
      "text/plain": [
       "count                        3535405\n",
       "unique                             3\n",
       "top       normales Verkehrsaufkommen\n",
       "freq                         3084848\n",
       "Name: traffic_state, dtype: object"
      ]
     },
     "execution_count": 52,
     "metadata": {},
     "output_type": "execute_result"
    }
   ],
   "source": [
    "raw_traffic[\"traffic_state\"]"
   ]
  },
  {
   "cell_type": "code",
   "execution_count": 65,
   "metadata": {},
   "outputs": [
    {
     "data": {
      "text/plain": [
       "0          1\n",
       "1          1\n",
       "2          1\n",
       "3          1\n",
       "4          1\n",
       "          ..\n",
       "3535400    1\n",
       "3535401    1\n",
       "3535402    1\n",
       "3535403    1\n",
       "3535404    1\n",
       "Name: traffic_state, Length: 3535405, dtype: int64"
      ]
     },
     "execution_count": 65,
     "metadata": {},
     "output_type": "execute_result"
    }
   ],
   "source": []
  },
  {
   "cell_type": "code",
   "execution_count": null,
   "metadata": {},
   "outputs": [],
   "source": []
  }
 ],
 "metadata": {
  "kernelspec": {
   "display_name": "Python 3",
   "language": "python",
   "name": "python3"
  },
  "language_info": {
   "codemirror_mode": {
    "name": "ipython",
    "version": 3
   },
   "file_extension": ".py",
   "mimetype": "text/x-python",
   "name": "python",
   "nbconvert_exporter": "python",
   "pygments_lexer": "ipython3",
   "version": "3.8.5"
  }
 },
 "nbformat": 4,
 "nbformat_minor": 2
}
